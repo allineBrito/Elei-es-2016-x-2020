{
  "nbformat": 4,
  "nbformat_minor": 0,
  "metadata": {
    "colab": {
      "name": "eleições2018.ipynb",
      "provenance": [],
      "collapsed_sections": [],
      "mount_file_id": "18Nt-Cv7D_FW1InSbgakMHkL0d6nfFQcz",
      "authorship_tag": "ABX9TyO8MF2lb9ls3oL+KE3SanQ1",
      "include_colab_link": true
    },
    "kernelspec": {
      "name": "python3",
      "display_name": "Python 3"
    },
    "language_info": {
      "name": "python"
    }
  },
  "cells": [
    {
      "cell_type": "markdown",
      "metadata": {
        "id": "view-in-github",
        "colab_type": "text"
      },
      "source": [
        "<a href=\"https://colab.research.google.com/github/allineBrito/Elei-es-2016-x-2020/blob/main/Eleitorado_e_Candidatos2018.ipynb\" target=\"_parent\"><img src=\"https://colab.research.google.com/assets/colab-badge.svg\" alt=\"Open In Colab\"/></a>"
      ]
    },
    {
      "cell_type": "code",
      "source": [
        "import pandas as pd\n",
        "import seaborn as sns\n",
        "import matplotlib.pyplot as plt"
      ],
      "metadata": {
        "id": "lILfQSeByyN2"
      },
      "execution_count": 3,
      "outputs": []
    },
    {
      "cell_type": "code",
      "source": [
        "sns.set()"
      ],
      "metadata": {
        "id": "iBLBtAnWy5TN"
      },
      "execution_count": 4,
      "outputs": []
    },
    {
      "cell_type": "code",
      "source": [
        "candidatos = pd.read_csv(\"/content/drive/MyDrive/eleições/candidatos/candidatos2018.csv\", sep=';', encoding='iso-8859-1')"
      ],
      "metadata": {
        "id": "j7NCsTg51A1V",
        "colab": {
          "base_uri": "https://localhost:8080/"
        },
        "outputId": "19b6b943-98cb-4baf-e5fa-89b50a818d6c"
      },
      "execution_count": 5,
      "outputs": [
        {
          "output_type": "stream",
          "name": "stderr",
          "text": [
            "/usr/local/lib/python3.7/dist-packages/IPython/core/interactiveshell.py:2882: DtypeWarning: Columns (20) have mixed types.Specify dtype option on import or set low_memory=False.\n",
            "  exec(code_obj, self.user_global_ns, self.user_ns)\n"
          ]
        }
      ]
    },
    {
      "cell_type": "code",
      "source": [
        "eleitorado = pd.read_csv(\"/content/drive/MyDrive/eleições/eletorado2018.csv\", sep=';', encoding='iso-8859-1')"
      ],
      "metadata": {
        "id": "RyaSxKxQ1YM1"
      },
      "execution_count": 6,
      "outputs": []
    },
    {
      "cell_type": "code",
      "source": [
        "resultado = pd.read_csv(\"/content/drive/MyDrive/eleições/votacao_candidato_munzona_2018_BRASIL[1].csv\", sep=';', encoding='iso-8859-1')"
      ],
      "metadata": {
        "id": "GdZSLeAK8F45"
      },
      "execution_count": 7,
      "outputs": []
    },
    {
      "cell_type": "markdown",
      "source": [
        "# ***ELEITORADO***"
      ],
      "metadata": {
        "id": "uZBlf4EfI6xx"
      }
    },
    {
      "cell_type": "code",
      "source": [
        "eleitorado.info()"
      ],
      "metadata": {
        "id": "6xx23UDJJQPg"
      },
      "execution_count": null,
      "outputs": []
    },
    {
      "cell_type": "code",
      "source": [
        "eleitorado['NM_MUNICIPIO'].nunique()\n",
        "# O Brasil tem 5570 municípios. Em 2041 municípios os dados do TSE não estavam preenchidos em 05/05/2022"
      ],
      "metadata": {
        "colab": {
          "base_uri": "https://localhost:8080/"
        },
        "id": "f6Z8TzEuvcP0",
        "outputId": "e1820fa5-3b34-4bb2-98a6-7bc221d4b028"
      },
      "execution_count": 9,
      "outputs": [
        {
          "output_type": "execute_result",
          "data": {
            "text/plain": [
              "3529"
            ]
          },
          "metadata": {},
          "execution_count": 9
        }
      ]
    },
    {
      "cell_type": "code",
      "source": [
        "eleitorado.groupby(['DS_FAIXA_ETARIA']).size()"
      ],
      "metadata": {
        "colab": {
          "base_uri": "https://localhost:8080/"
        },
        "id": "yaft3ubVpgow",
        "outputId": "492cefa5-b6bc-404e-dd54-1cec643a9427"
      },
      "execution_count": 10,
      "outputs": [
        {
          "output_type": "execute_result",
          "data": {
            "text/plain": [
              "DS_FAIXA_ETARIA\n",
              "100 anos ou mais                   6099\n",
              "16 anos                            8583\n",
              "17 anos                           12983\n",
              "18 anos                           17594\n",
              "19 anos                           20410\n",
              "20 anos                           22955\n",
              "21 a 24 anos                      38790\n",
              "25 a 29 anos                      50857\n",
              "30 a 34 anos                      60939\n",
              "35 a 39 anos                      70031\n",
              "40 a 44 anos                      75464\n",
              "45 a 49 anos                      80383\n",
              "50 a 54 anos                      87275\n",
              "55 a 59 anos                      87978\n",
              "60 a 64 anos                      85035\n",
              "65 a 69 anos                      77380\n",
              "70 a 74 anos                      67625\n",
              "75 a 79 anos                      57046\n",
              "80 a 84 anos                      46083\n",
              "85 a 89 anos                      34586\n",
              "90 a 94 anos                      25005\n",
              "95 a 99 anos                      14610\n",
              "Inválido                            864\n",
              "dtype: int64"
            ]
          },
          "metadata": {},
          "execution_count": 10
        }
      ]
    },
    {
      "cell_type": "code",
      "source": [
        "eleitorado.groupby('DS_FAIXA_ETARIA')['DS_GENERO'].value_counts(normalize=True)*100"
      ],
      "metadata": {
        "colab": {
          "base_uri": "https://localhost:8080/"
        },
        "id": "BwRLnRHqrsaP",
        "outputId": "1192f118-8637-41e5-c5a7-575ca555dbbb"
      },
      "execution_count": 11,
      "outputs": [
        {
          "output_type": "execute_result",
          "data": {
            "text/plain": [
              "DS_FAIXA_ETARIA                 DS_GENERO    \n",
              "100 anos ou mais                FEMININO         50.024594\n",
              "                                MASCULINO        49.073619\n",
              "                                NÃO INFORMADO     0.901787\n",
              "16 anos                         MASCULINO        50.180590\n",
              "                                FEMININO         49.819410\n",
              "17 anos                         FEMININO         52.553339\n",
              "                                MASCULINO        47.446661\n",
              "18 anos                         FEMININO         53.342048\n",
              "                                MASCULINO        46.657952\n",
              "19 anos                         FEMININO         54.875061\n",
              "                                MASCULINO        45.124939\n",
              "20 anos                         FEMININO         55.465040\n",
              "                                MASCULINO        44.534960\n",
              "21 a 24 anos                    FEMININO         54.766692\n",
              "                                MASCULINO        45.233308\n",
              "25 a 29 anos                    FEMININO         54.273748\n",
              "                                MASCULINO        45.726252\n",
              "30 a 34 anos                    FEMININO         54.159077\n",
              "                                MASCULINO        45.840923\n",
              "35 a 39 anos                    FEMININO         54.164584\n",
              "                                MASCULINO        45.835416\n",
              "40 a 44 anos                    FEMININO         54.163575\n",
              "                                MASCULINO        45.668133\n",
              "                                NÃO INFORMADO     0.168292\n",
              "45 a 49 anos                    FEMININO         53.654380\n",
              "                                MASCULINO        45.862931\n",
              "                                NÃO INFORMADO     0.482689\n",
              "50 a 54 anos                    FEMININO         52.917789\n",
              "                                MASCULINO        45.635062\n",
              "                                NÃO INFORMADO     1.447150\n",
              "55 a 59 anos                    FEMININO         51.878879\n",
              "                                MASCULINO        46.744641\n",
              "                                NÃO INFORMADO     1.376480\n",
              "60 a 64 anos                    FEMININO         51.198918\n",
              "                                MASCULINO        47.525137\n",
              "                                NÃO INFORMADO     1.275945\n",
              "65 a 69 anos                    FEMININO         50.891703\n",
              "                                MASCULINO        47.870251\n",
              "                                NÃO INFORMADO     1.238046\n",
              "70 a 74 anos                    FEMININO         50.738632\n",
              "                                MASCULINO        47.900924\n",
              "                                NÃO INFORMADO     1.360444\n",
              "75 a 79 anos                    FEMININO         50.997441\n",
              "                                MASCULINO        47.528310\n",
              "                                NÃO INFORMADO     1.474249\n",
              "80 a 84 anos                    FEMININO         51.535273\n",
              "                                MASCULINO        46.856758\n",
              "                                NÃO INFORMADO     1.607968\n",
              "85 a 89 anos                    FEMININO         51.838894\n",
              "                                MASCULINO        46.423408\n",
              "                                NÃO INFORMADO     1.737697\n",
              "90 a 94 anos                    FEMININO         51.061788\n",
              "                                MASCULINO        46.946611\n",
              "                                NÃO INFORMADO     1.991602\n",
              "95 a 99 anos                    FEMININO         50.746064\n",
              "                                MASCULINO        47.618070\n",
              "                                NÃO INFORMADO     1.635866\n",
              "Inválido                        FEMININO         51.851852\n",
              "                                MASCULINO        48.032407\n",
              "                                NÃO INFORMADO     0.115741\n",
              "Name: DS_GENERO, dtype: float64"
            ]
          },
          "metadata": {},
          "execution_count": 11
        }
      ]
    },
    {
      "cell_type": "code",
      "source": [
        "escolaridade= eleitorado.groupby('DS_GRAU_ESCOLARIDADE')['DS_GENERO'].value_counts(normalize=True)*100\n",
        "escolaridade.sort_values(ascending=False) \n",
        "#ordem do maior valor"
      ],
      "metadata": {
        "colab": {
          "base_uri": "https://localhost:8080/"
        },
        "id": "YD0mwx9Ct79E",
        "outputId": "6b07b048-f65a-495c-df28-6f64a0c80374"
      },
      "execution_count": 12,
      "outputs": [
        {
          "output_type": "execute_result",
          "data": {
            "text/plain": [
              "DS_GRAU_ESCOLARIDADE           DS_GENERO    \n",
              "SUPERIOR COMPLETO              FEMININO         55.487500\n",
              "ENSINO MÉDIO COMPLETO          FEMININO         54.643975\n",
              "SUPERIOR INCOMPLETO            FEMININO         53.969255\n",
              "ENSINO MÉDIO INCOMPLETO        FEMININO         53.616176\n",
              "ENSINO FUNDAMENTAL COMPLETO    FEMININO         52.511091\n",
              "ENSINO FUNDAMENTAL INCOMPLETO  FEMININO         51.894712\n",
              "ANALFABETO                     FEMININO         51.172254\n",
              "LÊ E ESCREVE                   FEMININO         49.827544\n",
              "                               MASCULINO        48.307795\n",
              "ANALFABETO                     MASCULINO        47.718211\n",
              "NÃO INFORMADO                  FEMININO         47.576138\n",
              "ENSINO FUNDAMENTAL INCOMPLETO  MASCULINO        47.072532\n",
              "ENSINO FUNDAMENTAL COMPLETO    MASCULINO        46.910543\n",
              "NÃO INFORMADO                  MASCULINO        46.207369\n",
              "ENSINO MÉDIO INCOMPLETO        MASCULINO        46.084082\n",
              "SUPERIOR INCOMPLETO            MASCULINO        45.860499\n",
              "ENSINO MÉDIO COMPLETO          MASCULINO        44.876106\n",
              "SUPERIOR COMPLETO              MASCULINO        44.315074\n",
              "NÃO INFORMADO                  NÃO INFORMADO     6.216494\n",
              "LÊ E ESCREVE                   NÃO INFORMADO     1.864661\n",
              "ANALFABETO                     NÃO INFORMADO     1.109535\n",
              "ENSINO FUNDAMENTAL INCOMPLETO  NÃO INFORMADO     1.032756\n",
              "ENSINO FUNDAMENTAL COMPLETO    NÃO INFORMADO     0.578366\n",
              "ENSINO MÉDIO COMPLETO          NÃO INFORMADO     0.479918\n",
              "ENSINO MÉDIO INCOMPLETO        NÃO INFORMADO     0.299742\n",
              "SUPERIOR COMPLETO              NÃO INFORMADO     0.197427\n",
              "SUPERIOR INCOMPLETO            NÃO INFORMADO     0.170246\n",
              "Name: DS_GENERO, dtype: float64"
            ]
          },
          "metadata": {},
          "execution_count": 12
        }
      ]
    },
    {
      "cell_type": "code",
      "source": [
        "eleitorado[eleitorado[\"NM_MUNICIPIO\"] == 'NITERÓI'][['QT_ELEITORES_PERFIL', 'QT_ELEITORES_DEFICIENCIA', 'QT_ELEITORES_BIOMETRIA', 'QT_ELEITORES_INC_NM_SOCIAL']].sum()"
      ],
      "metadata": {
        "colab": {
          "base_uri": "https://localhost:8080/"
        },
        "id": "WFgePxGq4Nam",
        "outputId": "20614fea-923d-4249-b13d-625d6d443190"
      },
      "execution_count": 13,
      "outputs": [
        {
          "output_type": "execute_result",
          "data": {
            "text/plain": [
              "QT_ELEITORES_PERFIL           90537\n",
              "QT_ELEITORES_DEFICIENCIA       2343\n",
              "QT_ELEITORES_BIOMETRIA        90453\n",
              "QT_ELEITORES_INC_NM_SOCIAL        5\n",
              "dtype: int64"
            ]
          },
          "metadata": {},
          "execution_count": 13
        }
      ]
    },
    {
      "cell_type": "markdown",
      "source": [
        "# ***CANDIDATOS***"
      ],
      "metadata": {
        "id": "2K58tuoG8PzB"
      }
    },
    {
      "cell_type": "code",
      "source": [
        "candidatos.info()"
      ],
      "metadata": {
        "id": "fQ-1CpI98TpX"
      },
      "execution_count": null,
      "outputs": []
    },
    {
      "cell_type": "code",
      "source": [
        "candidatos.loc [41:43]  #filtrar linhas"
      ],
      "metadata": {
        "id": "Ci2PRe-gCg_3",
        "colab": {
          "base_uri": "https://localhost:8080/",
          "height": 393
        },
        "outputId": "405f3759-5230-442d-87fd-a9e776610732"
      },
      "execution_count": 15,
      "outputs": [
        {
          "output_type": "execute_result",
          "data": {
            "text/plain": [
              "    DT_GERACAO HH_GERACAO  ANO_ELEICAO  CD_TIPO_ELEICAO    NM_TIPO_ELEICAO  \\\n",
              "41  24/04/2022   11:01:20         2018                2  ELEIÇÃO ORDINÁRIA   \n",
              "42  24/04/2022   11:01:20         2018                2  ELEIÇÃO ORDINÁRIA   \n",
              "43  24/04/2022   11:01:20         2018                2  ELEIÇÃO ORDINÁRIA   \n",
              "\n",
              "    NR_TURNO  CD_ELEICAO                      DS_ELEICAO  DT_ELEICAO  \\\n",
              "41         1         297  Eleições Gerais Estaduais 2018  07/10/2018   \n",
              "42         1         297  Eleições Gerais Estaduais 2018  07/10/2018   \n",
              "43         1         297  Eleições Gerais Estaduais 2018  07/10/2018   \n",
              "\n",
              "   TP_ABRANGENCIA  ... DS_SIT_TOT_TURNO ST_REELEICAO ST_DECLARAR_BENS  \\\n",
              "41       ESTADUAL  ...       NÃO ELEITO            N                S   \n",
              "42       ESTADUAL  ...         SUPLENTE            N                N   \n",
              "43       ESTADUAL  ...         SUPLENTE            N                S   \n",
              "\n",
              "    NR_PROTOCOLO_CANDIDATURA  NR_PROCESSO CD_SITUACAO_CANDIDATO_PLEITO  \\\n",
              "41                        -1  6,00191E+18                            2   \n",
              "42                        -1  6,02951E+18                            2   \n",
              "43                        -1  6,00754E+18                            2   \n",
              "\n",
              "    DS_SITUACAO_CANDIDATO_PLEITO CD_SITUACAO_CANDIDATO_URNA  \\\n",
              "41                      DEFERIDO                          2   \n",
              "42                      DEFERIDO                          2   \n",
              "43                      DEFERIDO                          2   \n",
              "\n",
              "   DS_SITUACAO_CANDIDATO_URNA ST_CANDIDATO_INSERIDO_URNA  \n",
              "41                   DEFERIDO                        SIM  \n",
              "42                   DEFERIDO                        SIM  \n",
              "43                   DEFERIDO                        SIM  \n",
              "\n",
              "[3 rows x 63 columns]"
            ],
            "text/html": [
              "\n",
              "  <div id=\"df-570f53cf-e27f-47cf-9e33-2f1ca96162d2\">\n",
              "    <div class=\"colab-df-container\">\n",
              "      <div>\n",
              "<style scoped>\n",
              "    .dataframe tbody tr th:only-of-type {\n",
              "        vertical-align: middle;\n",
              "    }\n",
              "\n",
              "    .dataframe tbody tr th {\n",
              "        vertical-align: top;\n",
              "    }\n",
              "\n",
              "    .dataframe thead th {\n",
              "        text-align: right;\n",
              "    }\n",
              "</style>\n",
              "<table border=\"1\" class=\"dataframe\">\n",
              "  <thead>\n",
              "    <tr style=\"text-align: right;\">\n",
              "      <th></th>\n",
              "      <th>DT_GERACAO</th>\n",
              "      <th>HH_GERACAO</th>\n",
              "      <th>ANO_ELEICAO</th>\n",
              "      <th>CD_TIPO_ELEICAO</th>\n",
              "      <th>NM_TIPO_ELEICAO</th>\n",
              "      <th>NR_TURNO</th>\n",
              "      <th>CD_ELEICAO</th>\n",
              "      <th>DS_ELEICAO</th>\n",
              "      <th>DT_ELEICAO</th>\n",
              "      <th>TP_ABRANGENCIA</th>\n",
              "      <th>...</th>\n",
              "      <th>DS_SIT_TOT_TURNO</th>\n",
              "      <th>ST_REELEICAO</th>\n",
              "      <th>ST_DECLARAR_BENS</th>\n",
              "      <th>NR_PROTOCOLO_CANDIDATURA</th>\n",
              "      <th>NR_PROCESSO</th>\n",
              "      <th>CD_SITUACAO_CANDIDATO_PLEITO</th>\n",
              "      <th>DS_SITUACAO_CANDIDATO_PLEITO</th>\n",
              "      <th>CD_SITUACAO_CANDIDATO_URNA</th>\n",
              "      <th>DS_SITUACAO_CANDIDATO_URNA</th>\n",
              "      <th>ST_CANDIDATO_INSERIDO_URNA</th>\n",
              "    </tr>\n",
              "  </thead>\n",
              "  <tbody>\n",
              "    <tr>\n",
              "      <th>41</th>\n",
              "      <td>24/04/2022</td>\n",
              "      <td>11:01:20</td>\n",
              "      <td>2018</td>\n",
              "      <td>2</td>\n",
              "      <td>ELEIÇÃO ORDINÁRIA</td>\n",
              "      <td>1</td>\n",
              "      <td>297</td>\n",
              "      <td>Eleições Gerais Estaduais 2018</td>\n",
              "      <td>07/10/2018</td>\n",
              "      <td>ESTADUAL</td>\n",
              "      <td>...</td>\n",
              "      <td>NÃO ELEITO</td>\n",
              "      <td>N</td>\n",
              "      <td>S</td>\n",
              "      <td>-1</td>\n",
              "      <td>6,00191E+18</td>\n",
              "      <td>2</td>\n",
              "      <td>DEFERIDO</td>\n",
              "      <td>2</td>\n",
              "      <td>DEFERIDO</td>\n",
              "      <td>SIM</td>\n",
              "    </tr>\n",
              "    <tr>\n",
              "      <th>42</th>\n",
              "      <td>24/04/2022</td>\n",
              "      <td>11:01:20</td>\n",
              "      <td>2018</td>\n",
              "      <td>2</td>\n",
              "      <td>ELEIÇÃO ORDINÁRIA</td>\n",
              "      <td>1</td>\n",
              "      <td>297</td>\n",
              "      <td>Eleições Gerais Estaduais 2018</td>\n",
              "      <td>07/10/2018</td>\n",
              "      <td>ESTADUAL</td>\n",
              "      <td>...</td>\n",
              "      <td>SUPLENTE</td>\n",
              "      <td>N</td>\n",
              "      <td>N</td>\n",
              "      <td>-1</td>\n",
              "      <td>6,02951E+18</td>\n",
              "      <td>2</td>\n",
              "      <td>DEFERIDO</td>\n",
              "      <td>2</td>\n",
              "      <td>DEFERIDO</td>\n",
              "      <td>SIM</td>\n",
              "    </tr>\n",
              "    <tr>\n",
              "      <th>43</th>\n",
              "      <td>24/04/2022</td>\n",
              "      <td>11:01:20</td>\n",
              "      <td>2018</td>\n",
              "      <td>2</td>\n",
              "      <td>ELEIÇÃO ORDINÁRIA</td>\n",
              "      <td>1</td>\n",
              "      <td>297</td>\n",
              "      <td>Eleições Gerais Estaduais 2018</td>\n",
              "      <td>07/10/2018</td>\n",
              "      <td>ESTADUAL</td>\n",
              "      <td>...</td>\n",
              "      <td>SUPLENTE</td>\n",
              "      <td>N</td>\n",
              "      <td>S</td>\n",
              "      <td>-1</td>\n",
              "      <td>6,00754E+18</td>\n",
              "      <td>2</td>\n",
              "      <td>DEFERIDO</td>\n",
              "      <td>2</td>\n",
              "      <td>DEFERIDO</td>\n",
              "      <td>SIM</td>\n",
              "    </tr>\n",
              "  </tbody>\n",
              "</table>\n",
              "<p>3 rows × 63 columns</p>\n",
              "</div>\n",
              "      <button class=\"colab-df-convert\" onclick=\"convertToInteractive('df-570f53cf-e27f-47cf-9e33-2f1ca96162d2')\"\n",
              "              title=\"Convert this dataframe to an interactive table.\"\n",
              "              style=\"display:none;\">\n",
              "        \n",
              "  <svg xmlns=\"http://www.w3.org/2000/svg\" height=\"24px\"viewBox=\"0 0 24 24\"\n",
              "       width=\"24px\">\n",
              "    <path d=\"M0 0h24v24H0V0z\" fill=\"none\"/>\n",
              "    <path d=\"M18.56 5.44l.94 2.06.94-2.06 2.06-.94-2.06-.94-.94-2.06-.94 2.06-2.06.94zm-11 1L8.5 8.5l.94-2.06 2.06-.94-2.06-.94L8.5 2.5l-.94 2.06-2.06.94zm10 10l.94 2.06.94-2.06 2.06-.94-2.06-.94-.94-2.06-.94 2.06-2.06.94z\"/><path d=\"M17.41 7.96l-1.37-1.37c-.4-.4-.92-.59-1.43-.59-.52 0-1.04.2-1.43.59L10.3 9.45l-7.72 7.72c-.78.78-.78 2.05 0 2.83L4 21.41c.39.39.9.59 1.41.59.51 0 1.02-.2 1.41-.59l7.78-7.78 2.81-2.81c.8-.78.8-2.07 0-2.86zM5.41 20L4 18.59l7.72-7.72 1.47 1.35L5.41 20z\"/>\n",
              "  </svg>\n",
              "      </button>\n",
              "      \n",
              "  <style>\n",
              "    .colab-df-container {\n",
              "      display:flex;\n",
              "      flex-wrap:wrap;\n",
              "      gap: 12px;\n",
              "    }\n",
              "\n",
              "    .colab-df-convert {\n",
              "      background-color: #E8F0FE;\n",
              "      border: none;\n",
              "      border-radius: 50%;\n",
              "      cursor: pointer;\n",
              "      display: none;\n",
              "      fill: #1967D2;\n",
              "      height: 32px;\n",
              "      padding: 0 0 0 0;\n",
              "      width: 32px;\n",
              "    }\n",
              "\n",
              "    .colab-df-convert:hover {\n",
              "      background-color: #E2EBFA;\n",
              "      box-shadow: 0px 1px 2px rgba(60, 64, 67, 0.3), 0px 1px 3px 1px rgba(60, 64, 67, 0.15);\n",
              "      fill: #174EA6;\n",
              "    }\n",
              "\n",
              "    [theme=dark] .colab-df-convert {\n",
              "      background-color: #3B4455;\n",
              "      fill: #D2E3FC;\n",
              "    }\n",
              "\n",
              "    [theme=dark] .colab-df-convert:hover {\n",
              "      background-color: #434B5C;\n",
              "      box-shadow: 0px 1px 3px 1px rgba(0, 0, 0, 0.15);\n",
              "      filter: drop-shadow(0px 1px 2px rgba(0, 0, 0, 0.3));\n",
              "      fill: #FFFFFF;\n",
              "    }\n",
              "  </style>\n",
              "\n",
              "      <script>\n",
              "        const buttonEl =\n",
              "          document.querySelector('#df-570f53cf-e27f-47cf-9e33-2f1ca96162d2 button.colab-df-convert');\n",
              "        buttonEl.style.display =\n",
              "          google.colab.kernel.accessAllowed ? 'block' : 'none';\n",
              "\n",
              "        async function convertToInteractive(key) {\n",
              "          const element = document.querySelector('#df-570f53cf-e27f-47cf-9e33-2f1ca96162d2');\n",
              "          const dataTable =\n",
              "            await google.colab.kernel.invokeFunction('convertToInteractive',\n",
              "                                                     [key], {});\n",
              "          if (!dataTable) return;\n",
              "\n",
              "          const docLinkHtml = 'Like what you see? Visit the ' +\n",
              "            '<a target=\"_blank\" href=https://colab.research.google.com/notebooks/data_table.ipynb>data table notebook</a>'\n",
              "            + ' to learn more about interactive tables.';\n",
              "          element.innerHTML = '';\n",
              "          dataTable['output_type'] = 'display_data';\n",
              "          await google.colab.output.renderOutput(dataTable, element);\n",
              "          const docLink = document.createElement('div');\n",
              "          docLink.innerHTML = docLinkHtml;\n",
              "          element.appendChild(docLink);\n",
              "        }\n",
              "      </script>\n",
              "    </div>\n",
              "  </div>\n",
              "  "
            ]
          },
          "metadata": {},
          "execution_count": 15
        }
      ]
    },
    {
      "cell_type": "code",
      "source": [
        "cor = candidatos['DS_COR_RACA'].value_counts (normalize=True)*100 #porcentagem\n",
        "cor.sort_values(ascending=False)"
      ],
      "metadata": {
        "id": "p2WB8Kd_21pE",
        "colab": {
          "base_uri": "https://localhost:8080/"
        },
        "outputId": "d4780a3b-b2df-4d89-a9d5-acee8a5f5233"
      },
      "execution_count": 16,
      "outputs": [
        {
          "output_type": "execute_result",
          "data": {
            "text/plain": [
              "BRANCA            52.457162\n",
              "PARDA             35.661412\n",
              "PRETA             10.839616\n",
              "AMARELA            0.579164\n",
              "INDÍGENA           0.459219\n",
              "NÃO DIVULGÁVEL     0.003427\n",
              "Name: DS_COR_RACA, dtype: float64"
            ]
          },
          "metadata": {},
          "execution_count": 16
        }
      ]
    },
    {
      "cell_type": "code",
      "source": [
        "candidatos[candidatos['DS_COR_RACA']=='PARDA'].count()"
      ],
      "metadata": {
        "id": "zqMZpYY157b7",
        "colab": {
          "base_uri": "https://localhost:8080/"
        },
        "outputId": "34c4f2d6-aaa0-4a7c-fb57-23a903724d5d"
      },
      "execution_count": 17,
      "outputs": [
        {
          "output_type": "execute_result",
          "data": {
            "text/plain": [
              "DT_GERACAO                      10406\n",
              "HH_GERACAO                      10406\n",
              "ANO_ELEICAO                     10406\n",
              "CD_TIPO_ELEICAO                 10406\n",
              "NM_TIPO_ELEICAO                 10406\n",
              "                                ...  \n",
              "CD_SITUACAO_CANDIDATO_PLEITO    10406\n",
              "DS_SITUACAO_CANDIDATO_PLEITO    10406\n",
              "CD_SITUACAO_CANDIDATO_URNA      10406\n",
              "DS_SITUACAO_CANDIDATO_URNA      10406\n",
              "ST_CANDIDATO_INSERIDO_URNA      10406\n",
              "Length: 63, dtype: int64"
            ]
          },
          "metadata": {},
          "execution_count": 17
        }
      ]
    },
    {
      "cell_type": "code",
      "source": [
        "candidatos['DS_GENERO'].value_counts (normalize=True)*100"
      ],
      "metadata": {
        "colab": {
          "base_uri": "https://localhost:8080/"
        },
        "id": "OINCJ9aOAWXP",
        "outputId": "611be9b8-4f9b-41cb-ded9-81717bc110d4"
      },
      "execution_count": 18,
      "outputs": [
        {
          "output_type": "execute_result",
          "data": {
            "text/plain": [
              "MASCULINO         68.396162\n",
              "FEMININO          31.600411\n",
              "NÃO DIVULGÁVEL     0.003427\n",
              "Name: DS_GENERO, dtype: float64"
            ]
          },
          "metadata": {},
          "execution_count": 18
        }
      ]
    },
    {
      "cell_type": "code",
      "source": [
        "idade= candidatos['NR_IDADE_DATA_POSSE'].min()\n",
        "print(\"O candidato mais novo possui {} de idade.\". format(idade))\n"
      ],
      "metadata": {
        "colab": {
          "base_uri": "https://localhost:8080/"
        },
        "id": "Jbkw2KtXFq-X",
        "outputId": "7626be8f-8bf9-4460-bf85-34c817a745d3"
      },
      "execution_count": 19,
      "outputs": [
        {
          "output_type": "stream",
          "name": "stdout",
          "text": [
            "O candidato mais novo possui 18.0 de idade.\n"
          ]
        }
      ]
    },
    {
      "cell_type": "code",
      "source": [
        "#quantidade de candidatos por faixa etária específica \n",
        "candidatos[candidatos['NR_IDADE_DATA_POSSE'] == 49].count()"
      ],
      "metadata": {
        "id": "I0kp_ldqAqXY",
        "colab": {
          "base_uri": "https://localhost:8080/"
        },
        "outputId": "a95a98ed-1712-40f8-b7e0-ff270826e08c"
      },
      "execution_count": 20,
      "outputs": [
        {
          "output_type": "execute_result",
          "data": {
            "text/plain": [
              "DT_GERACAO                      974\n",
              "HH_GERACAO                      974\n",
              "ANO_ELEICAO                     974\n",
              "CD_TIPO_ELEICAO                 974\n",
              "NM_TIPO_ELEICAO                 974\n",
              "                               ... \n",
              "CD_SITUACAO_CANDIDATO_PLEITO    974\n",
              "DS_SITUACAO_CANDIDATO_PLEITO    974\n",
              "CD_SITUACAO_CANDIDATO_URNA      974\n",
              "DS_SITUACAO_CANDIDATO_URNA      974\n",
              "ST_CANDIDATO_INSERIDO_URNA      974\n",
              "Length: 63, dtype: int64"
            ]
          },
          "metadata": {},
          "execution_count": 20
        }
      ]
    },
    {
      "cell_type": "code",
      "source": [
        "candidatos.filter (items=['DS_GENERO','DS_COR_RACA']).value_counts(normalize=True)*100 #juntar dados"
      ],
      "metadata": {
        "id": "CD7m8izgH_XV",
        "colab": {
          "base_uri": "https://localhost:8080/"
        },
        "outputId": "6c7b7f2c-6672-40cf-d845-49e96a4a5e11"
      },
      "execution_count": 21,
      "outputs": [
        {
          "output_type": "execute_result",
          "data": {
            "text/plain": [
              "DS_GENERO       DS_COR_RACA   \n",
              "MASCULINO       BRANCA            36.336532\n",
              "                PARDA             24.808088\n",
              "FEMININO        BRANCA            16.120631\n",
              "                PARDA             10.853324\n",
              "MASCULINO       PRETA              6.596984\n",
              "FEMININO        PRETA              4.242632\n",
              "MASCULINO       AMARELA            0.363263\n",
              "                INDÍGENA           0.291295\n",
              "FEMININO        AMARELA            0.215901\n",
              "                INDÍGENA           0.167923\n",
              "NÃO DIVULGÁVEL  NÃO DIVULGÁVEL     0.003427\n",
              "dtype: float64"
            ]
          },
          "metadata": {},
          "execution_count": 21
        }
      ]
    },
    {
      "cell_type": "code",
      "source": [
        "candidatos.groupby('DS_GENERO')['DS_COR_RACA'].value_counts().unstack().plot(kind='bar', stacked=True);\n",
        "\n",
        "# plt.xticks(rotation=60);\n",
        "plt.rcParams[\"figure.figsize\"] = (10,10);\n",
        "plt.title('Sexo eleições 2016 por raça ou cor');"
      ],
      "metadata": {
        "colab": {
          "base_uri": "https://localhost:8080/",
          "height": 388
        },
        "id": "dez7d9q6IkfX",
        "outputId": "479c22d4-6a71-49bd-e689-b26138ce42bf"
      },
      "execution_count": 22,
      "outputs": [
        {
          "output_type": "display_data",
          "data": {
            "text/plain": [
              "<Figure size 432x288 with 1 Axes>"
            ],
            "image/png": "[encoded data removed]"
          },
          "metadata": {}
        }
      ]
    },
    {
      "cell_type": "code",
      "source": [
        "candidatos[candidatos['SG_PARTIDO']=='PSDB']['DS_COR_RACA'].value_counts(normalize=True)*100"
      ],
      "metadata": {
        "colab": {
          "base_uri": "https://localhost:8080/"
        },
        "id": "7T1jKwC_2A74",
        "outputId": "420b3218-fe62-497d-edb9-cf83a8b7c64f"
      },
      "execution_count": 28,
      "outputs": [
        {
          "output_type": "execute_result",
          "data": {
            "text/plain": [
              "BRANCA      65.972945\n",
              "PARDA       27.679501\n",
              "PRETA        5.723205\n",
              "AMARELA      0.520291\n",
              "INDÍGENA     0.104058\n",
              "Name: DS_COR_RACA, dtype: float64"
            ]
          },
          "metadata": {},
          "execution_count": 28
        }
      ]
    },
    {
      "cell_type": "code",
      "source": [
        "candidatos.groupby('SG_PARTIDO')['DS_COR_RACA'].value_counts().unstack().plot(kind='bar', stacked=True);\n",
        "\n",
        "# plt.xticks(rotation=60);\n",
        "plt.rcParams[\"figure.figsize\"] = (12,15);\n",
        "plt.title('Representação por raça ou cor em partidos-2018 ');"
      ],
      "metadata": {
        "colab": {
          "base_uri": "https://localhost:8080/",
          "height": 598
        },
        "id": "zAYlqcK_3kIh",
        "outputId": "5e77274f-7632-4200-f3b6-5605700fc3a2"
      },
      "execution_count": 39,
      "outputs": [
        {
          "output_type": "display_data",
          "data": {
            "text/plain": [
              "<Figure size 864x576 with 1 Axes>"
            ],
            "image/png": "[encoded data removed]"
          },
          "metadata": {}
        }
      ]
    },
    {
      "cell_type": "code",
      "source": [
        "despesa= candidatos['VR_DESPESA_MAX_CAMPANHA'].max()\n",
        "print(f'Valor máximo, em reais, de despesas de campanha declarada pelo partido: R${despesa:_.0f}')\n",
        "#formatação númerica"
      ],
      "metadata": {
        "colab": {
          "base_uri": "https://localhost:8080/"
        },
        "id": "WLwgFTTfpaXo",
        "outputId": "b13899e8-80af-4322-8e69-1735afe92b65"
      },
      "execution_count": 23,
      "outputs": [
        {
          "output_type": "stream",
          "name": "stdout",
          "text": [
            "Valor máximo, em reais, de despesas de campanha declarada pelo partido: R$70_000_000\n"
          ]
        }
      ]
    },
    {
      "cell_type": "code",
      "source": [
        "despesaporcor= candidatos[candidatos[\"DS_COR_RACA\"] == 'BRANCA']['VR_DESPESA_MAX_CAMPANHA'].mean()\n",
        "round(despesaporcor)\n",
        "print(f'Média do valor máximo, em reais, de despesas de campanha declarada pelo partido por raça ou cor: R${despesaporcor:_.0f}')"
      ],
      "metadata": {
        "colab": {
          "base_uri": "https://localhost:8080/"
        },
        "id": "iVapnhUjELmf",
        "outputId": "6b76e52a-338a-427c-fe1f-7f8307ddb367"
      },
      "execution_count": 24,
      "outputs": [
        {
          "output_type": "stream",
          "name": "stdout",
          "text": [
            "Média do valor máximo, em reais, de despesas de campanha declarada pelo partido por raça ou cor: R$1_707_137\n"
          ]
        }
      ]
    }
  ]
}