{
  "nbformat": 4,
  "nbformat_minor": 0,
  "metadata": {
    "colab": {
      "name": "Copy of candidatos2016_2020raca.ipynb",
      "provenance": [],
      "collapsed_sections": [
        "11VnJjhcSNG2",
        "AdMDaCkDwpQ2"
      ],
      "mount_file_id": "1IOjSU2DZ5y--wra3FWI1zOz-neZoedf2",
      "authorship_tag": "ABX9TyP0OT5dumPO3FQ9DXn1IjNI",
      "include_colab_link": true
    },
    "kernelspec": {
      "name": "python3",
      "display_name": "Python 3"
    },
    "language_info": {
      "name": "python"
    }
  },
  "cells": [
    {
      "cell_type": "markdown",
      "metadata": {
        "id": "view-in-github",
        "colab_type": "text"
      },
      "source": [
        "<a href=\"https://colab.research.google.com/github/allineBrito/Elei-es-2016-x-2020/blob/main/candidatos2016_2020%20por_cor_ou_raca.ipynb\" target=\"_parent\"><img src=\"https://colab.research.google.com/assets/colab-badge.svg\" alt=\"Open In Colab\"/></a>"
      ]
    },
    {
      "cell_type": "code",
      "source": [
        "import pandas as pd\n",
        "import matplotlib.pyplot as plt\n",
        "import seaborn as sns"
      ],
      "metadata": {
        "id": "DhAUpmIMXORn"
      },
      "execution_count": 5,
      "outputs": []
    },
    {
      "cell_type": "code",
      "source": [
        "cand2016 = pd.read_csv('/content/drive/MyDrive/eleições/candidatos/candidatos2016.csv', sep=';', encoding='latin1')"
      ],
      "metadata": {
        "id": "6gg8UkUhXPKG",
        "colab": {
          "base_uri": "https://localhost:8080/"
        },
        "outputId": "c26aa27c-f884-450b-8619-7154ea4f9f97"
      },
      "execution_count": 6,
      "outputs": [
        {
          "output_type": "stream",
          "name": "stderr",
          "text": [
            "/usr/local/lib/python3.7/dist-packages/IPython/core/interactiveshell.py:2882: DtypeWarning: Columns (20,56) have mixed types.Specify dtype option on import or set low_memory=False.\n",
            "  exec(code_obj, self.user_global_ns, self.user_ns)\n"
          ]
        }
      ]
    },
    {
      "cell_type": "code",
      "source": [
        "cand2020 = pd.read_csv('/content/drive/MyDrive/eleições/candidatos/candidatos2020.csv', sep=';', encoding='latin1')"
      ],
      "metadata": {
        "colab": {
          "base_uri": "https://localhost:8080/"
        },
        "id": "XT1Pm7JdTrH9",
        "outputId": "c79c6fc4-8f70-422d-ddcd-4a788a533751"
      },
      "execution_count": 7,
      "outputs": [
        {
          "output_type": "stream",
          "name": "stderr",
          "text": [
            "/usr/local/lib/python3.7/dist-packages/IPython/core/interactiveshell.py:2882: DtypeWarning: Columns (20) have mixed types.Specify dtype option on import or set low_memory=False.\n",
            "  exec(code_obj, self.user_global_ns, self.user_ns)\n"
          ]
        }
      ]
    },
    {
      "cell_type": "markdown",
      "source": [
        "# ***2016***"
      ],
      "metadata": {
        "id": "11VnJjhcSNG2"
      }
    },
    {
      "cell_type": "code",
      "source": [
        "cand2016.info()"
      ],
      "metadata": {
        "id": "nMmyfwfMx5AM"
      },
      "execution_count": null,
      "outputs": []
    },
    {
      "cell_type": "code",
      "source": [
        "selecao_situacao=cand2016['DS_SITUACAO_CANDIDATURA']==\"INAPTO\"\n",
        "situacao=cand2016[selecao_situacao]\n",
        "quantidade_total_de_candidatos=cand2016.shape[0]\n",
        "quantidade_de_candidatos_inaptos=situacao.shape[0]\n",
        "\n",
        "print(\"{} candidatos de um total de {} estão inaptos a concorrer.\". format(quantidade_de_candidatos_inaptos,quantidade_total_de_candidatos))\n"
      ],
      "metadata": {
        "colab": {
          "base_uri": "https://localhost:8080/"
        },
        "id": "cccm1nB0So0E",
        "outputId": "e85745c8-b495-4c31-9137-b7d15440a78b"
      },
      "execution_count": 8,
      "outputs": [
        {
          "output_type": "stream",
          "name": "stdout",
          "text": [
            "28055 candidatos de um total de 498340 estão inaptos a concorrer.\n"
          ]
        }
      ]
    },
    {
      "cell_type": "code",
      "source": [
        "cand2016['NM_UE'].nunique()\n",
        "## O Brasil tem 5570 municípios. Em 275 cidades os dados do TSE não estavam preenchidos em 03/05/2022"
      ],
      "metadata": {
        "colab": {
          "base_uri": "https://localhost:8080/"
        },
        "id": "stgYT_WbXY98",
        "outputId": "a1623354-d197-45f7-eacb-6d17d3f35e29"
      },
      "execution_count": 34,
      "outputs": [
        {
          "output_type": "execute_result",
          "data": {
            "text/plain": [
              "5295"
            ]
          },
          "metadata": {},
          "execution_count": 34
        }
      ]
    },
    {
      "cell_type": "code",
      "source": [
        "cand2016['DS_CARGO'].value_counts()"
      ],
      "metadata": {
        "colab": {
          "base_uri": "https://localhost:8080/"
        },
        "id": "5OLi3vZrTW8t",
        "outputId": "4e5a67f0-015a-4ebc-a9f4-f22911079e3c"
      },
      "execution_count": 10,
      "outputs": [
        {
          "output_type": "execute_result",
          "data": {
            "text/plain": [
              "VEREADOR         463405\n",
              "VICE-PREFEITO     17666\n",
              "PREFEITO          17269\n",
              "Name: DS_CARGO, dtype: int64"
            ]
          },
          "metadata": {},
          "execution_count": 10
        }
      ]
    },
    {
      "cell_type": "code",
      "source": [
        "cand2016['DS_COR_RACA'].value_counts()"
      ],
      "metadata": {
        "colab": {
          "base_uri": "https://localhost:8080/"
        },
        "id": "torZw7lIV0cl",
        "outputId": "ed3f36c7-8544-4eae-fa37-7a8dbeb886e0"
      },
      "execution_count": 11,
      "outputs": [
        {
          "output_type": "execute_result",
          "data": {
            "text/plain": [
              "BRANCA            256657\n",
              "PARDA             194767\n",
              "PRETA              42975\n",
              "AMARELA             2169\n",
              "INDÍGENA            1715\n",
              "NÃO DIVULGÁVEL        57\n",
              "Name: DS_COR_RACA, dtype: int64"
            ]
          },
          "metadata": {},
          "execution_count": 11
        }
      ]
    },
    {
      "cell_type": "code",
      "source": [
        "cand2016['DS_GENERO'].value_counts()"
      ],
      "metadata": {
        "colab": {
          "base_uri": "https://localhost:8080/"
        },
        "id": "iYbJQm2cXomD",
        "outputId": "9ac015c7-cb3d-47c8-e659-b3f1733d9a10"
      },
      "execution_count": 12,
      "outputs": [
        {
          "output_type": "execute_result",
          "data": {
            "text/plain": [
              "MASCULINO         339609\n",
              "FEMININO          158674\n",
              "NÃO DIVULGÁVEL        57\n",
              "Name: DS_GENERO, dtype: int64"
            ]
          },
          "metadata": {},
          "execution_count": 12
        }
      ]
    },
    {
      "cell_type": "code",
      "source": [
        "cand2016.groupby('DS_GENERO')['DS_COR_RACA'].value_counts().unstack().plot(kind='bar', stacked=True);\n",
        "\n",
        "# plt.xticks(rotation=60);\n",
        "plt.rcParams[\"figure.figsize\"] = (10,8);\n",
        "plt.title('Sexo eleições 2016 por raça ou cor');"
      ],
      "metadata": {
        "id": "UNSu_KEVW4Mr",
        "colab": {
          "base_uri": "https://localhost:8080/",
          "height": 374
        },
        "outputId": "8b0d28d0-b55d-4515-c6e7-d4dab1b789a4"
      },
      "execution_count": 13,
      "outputs": [
        {
          "output_type": "display_data",
          "data": {
            "text/plain": [
              "<Figure size 432x288 with 1 Axes>"
            ],
            "image/png": "[encoded data removed]"
          },
          "metadata": {
            "needs_background": "light"
          }
        }
      ]
    },
    {
      "cell_type": "code",
      "source": [
        "cand2016.groupby('DS_COR_RACA')['DS_GRAU_INSTRUCAO'].value_counts().unstack().plot(kind='barh', stacked=True);\n",
        "# plt.xticks(rotation=40);\n",
        "plt.rcParams[\"figure.figsize\"] = (20,8);\n",
        "plt.title('Grau de instrução 2016 por raça ou cor');"
      ],
      "metadata": {
        "id": "KxXEy5G_muLD",
        "colab": {
          "base_uri": "https://localhost:8080/",
          "height": 499
        },
        "outputId": "b196c46d-f8cc-44d6-8b0e-bea966541177"
      },
      "execution_count": 14,
      "outputs": [
        {
          "output_type": "display_data",
          "data": {
            "text/plain": [
              "<Figure size 720x576 with 1 Axes>"
            ],
            "image/png": "[encoded data removed]"
          },
          "metadata": {
            "needs_background": "light"
          }
        }
      ]
    },
    {
      "cell_type": "code",
      "source": [
        "#Constsite no Valor máximo, em reais, de despesas de campanha declarada pelo partido\n",
        "despesas=cand2016[['DS_COR_RACA', 'VR_DESPESA_MAX_CAMPANHA']].groupby('DS_COR_RACA').mean().sort_values('VR_DESPESA_MAX_CAMPANHA', ascending=False)\n",
        "despesas\n"
      ],
      "metadata": {
        "colab": {
          "base_uri": "https://localhost:8080/",
          "height": 269
        },
        "id": "Ust16EJTXU_N",
        "outputId": "cdc0c634-d814-4a3d-f52b-2be48824beb1"
      },
      "execution_count": 15,
      "outputs": [
        {
          "output_type": "execute_result",
          "data": {
            "text/plain": [
              "                VR_DESPESA_MAX_CAMPANHA\n",
              "DS_COR_RACA                            \n",
              "PRETA                      96797.549846\n",
              "AMARELA                    90195.019106\n",
              "BRANCA                     81168.864577\n",
              "INDÍGENA                   69928.330175\n",
              "PARDA                      67527.902897\n",
              "NÃO DIVULGÁVEL                -4.000000"
            ],
            "text/html": [
              "\n",
              "  <div id=\"df-514c087b-ad24-4dcb-9975-661888b3a5f2\">\n",
              "    <div class=\"colab-df-container\">\n",
              "      <div>\n",
              "<style scoped>\n",
              "    .dataframe tbody tr th:only-of-type {\n",
              "        vertical-align: middle;\n",
              "    }\n",
              "\n",
              "    .dataframe tbody tr th {\n",
              "        vertical-align: top;\n",
              "    }\n",
              "\n",
              "    .dataframe thead th {\n",
              "        text-align: right;\n",
              "    }\n",
              "</style>\n",
              "<table border=\"1\" class=\"dataframe\">\n",
              "  <thead>\n",
              "    <tr style=\"text-align: right;\">\n",
              "      <th></th>\n",
              "      <th>VR_DESPESA_MAX_CAMPANHA</th>\n",
              "    </tr>\n",
              "    <tr>\n",
              "      <th>DS_COR_RACA</th>\n",
              "      <th></th>\n",
              "    </tr>\n",
              "  </thead>\n",
              "  <tbody>\n",
              "    <tr>\n",
              "      <th>PRETA</th>\n",
              "      <td>96797.549846</td>\n",
              "    </tr>\n",
              "    <tr>\n",
              "      <th>AMARELA</th>\n",
              "      <td>90195.019106</td>\n",
              "    </tr>\n",
              "    <tr>\n",
              "      <th>BRANCA</th>\n",
              "      <td>81168.864577</td>\n",
              "    </tr>\n",
              "    <tr>\n",
              "      <th>INDÍGENA</th>\n",
              "      <td>69928.330175</td>\n",
              "    </tr>\n",
              "    <tr>\n",
              "      <th>PARDA</th>\n",
              "      <td>67527.902897</td>\n",
              "    </tr>\n",
              "    <tr>\n",
              "      <th>NÃO DIVULGÁVEL</th>\n",
              "      <td>-4.000000</td>\n",
              "    </tr>\n",
              "  </tbody>\n",
              "</table>\n",
              "</div>\n",
              "      <button class=\"colab-df-convert\" onclick=\"convertToInteractive('df-514c087b-ad24-4dcb-9975-661888b3a5f2')\"\n",
              "              title=\"Convert this dataframe to an interactive table.\"\n",
              "              style=\"display:none;\">\n",
              "        \n",
              "  <svg xmlns=\"http://www.w3.org/2000/svg\" height=\"24px\"viewBox=\"0 0 24 24\"\n",
              "       width=\"24px\">\n",
              "    <path d=\"M0 0h24v24H0V0z\" fill=\"none\"/>\n",
              "    <path d=\"M18.56 5.44l.94 2.06.94-2.06 2.06-.94-2.06-.94-.94-2.06-.94 2.06-2.06.94zm-11 1L8.5 8.5l.94-2.06 2.06-.94-2.06-.94L8.5 2.5l-.94 2.06-2.06.94zm10 10l.94 2.06.94-2.06 2.06-.94-2.06-.94-.94-2.06-.94 2.06-2.06.94z\"/><path d=\"M17.41 7.96l-1.37-1.37c-.4-.4-.92-.59-1.43-.59-.52 0-1.04.2-1.43.59L10.3 9.45l-7.72 7.72c-.78.78-.78 2.05 0 2.83L4 21.41c.39.39.9.59 1.41.59.51 0 1.02-.2 1.41-.59l7.78-7.78 2.81-2.81c.8-.78.8-2.07 0-2.86zM5.41 20L4 18.59l7.72-7.72 1.47 1.35L5.41 20z\"/>\n",
              "  </svg>\n",
              "      </button>\n",
              "      \n",
              "  <style>\n",
              "    .colab-df-container {\n",
              "      display:flex;\n",
              "      flex-wrap:wrap;\n",
              "      gap: 12px;\n",
              "    }\n",
              "\n",
              "    .colab-df-convert {\n",
              "      background-color: #E8F0FE;\n",
              "      border: none;\n",
              "      border-radius: 50%;\n",
              "      cursor: pointer;\n",
              "      display: none;\n",
              "      fill: #1967D2;\n",
              "      height: 32px;\n",
              "      padding: 0 0 0 0;\n",
              "      width: 32px;\n",
              "    }\n",
              "\n",
              "    .colab-df-convert:hover {\n",
              "      background-color: #E2EBFA;\n",
              "      box-shadow: 0px 1px 2px rgba(60, 64, 67, 0.3), 0px 1px 3px 1px rgba(60, 64, 67, 0.15);\n",
              "      fill: #174EA6;\n",
              "    }\n",
              "\n",
              "    [theme=dark] .colab-df-convert {\n",
              "      background-color: #3B4455;\n",
              "      fill: #D2E3FC;\n",
              "    }\n",
              "\n",
              "    [theme=dark] .colab-df-convert:hover {\n",
              "      background-color: #434B5C;\n",
              "      box-shadow: 0px 1px 3px 1px rgba(0, 0, 0, 0.15);\n",
              "      filter: drop-shadow(0px 1px 2px rgba(0, 0, 0, 0.3));\n",
              "      fill: #FFFFFF;\n",
              "    }\n",
              "  </style>\n",
              "\n",
              "      <script>\n",
              "        const buttonEl =\n",
              "          document.querySelector('#df-514c087b-ad24-4dcb-9975-661888b3a5f2 button.colab-df-convert');\n",
              "        buttonEl.style.display =\n",
              "          google.colab.kernel.accessAllowed ? 'block' : 'none';\n",
              "\n",
              "        async function convertToInteractive(key) {\n",
              "          const element = document.querySelector('#df-514c087b-ad24-4dcb-9975-661888b3a5f2');\n",
              "          const dataTable =\n",
              "            await google.colab.kernel.invokeFunction('convertToInteractive',\n",
              "                                                     [key], {});\n",
              "          if (!dataTable) return;\n",
              "\n",
              "          const docLinkHtml = 'Like what you see? Visit the ' +\n",
              "            '<a target=\"_blank\" href=https://colab.research.google.com/notebooks/data_table.ipynb>data table notebook</a>'\n",
              "            + ' to learn more about interactive tables.';\n",
              "          element.innerHTML = '';\n",
              "          dataTable['output_type'] = 'display_data';\n",
              "          await google.colab.output.renderOutput(dataTable, element);\n",
              "          const docLink = document.createElement('div');\n",
              "          docLink.innerHTML = docLinkHtml;\n",
              "          element.appendChild(docLink);\n",
              "        }\n",
              "      </script>\n",
              "    </div>\n",
              "  </div>\n",
              "  "
            ]
          },
          "metadata": {},
          "execution_count": 15
        }
      ]
    },
    {
      "cell_type": "code",
      "source": [
        "cand2016[cand2016['VR_DESPESA_MAX_CAMPANHA'] == cand2016['VR_DESPESA_MAX_CAMPANHA'].max()][['DS_GENERO', 'DS_COR_RACA', 'NM_CANDIDATO', 'DS_CARGO', 'VR_DESPESA_MAX_CAMPANHA']]\n"
      ],
      "metadata": {
        "id": "wtv2o21tZQ-V",
        "colab": {
          "base_uri": "https://localhost:8080/",
          "height": 394
        },
        "outputId": "57d7580f-bfdc-4b7b-9904-fcb0589046da"
      },
      "execution_count": 16,
      "outputs": [
        {
          "output_type": "execute_result",
          "data": {
            "text/plain": [
              "        DS_GENERO DS_COR_RACA                         NM_CANDIDATO  DS_CARGO  \\\n",
              "5754    MASCULINO      BRANCA       ALTINO DE MELO PRAZERES JÚNIOR  PREFEITO   \n",
              "33647   MASCULINO      BRANCA                   JOÃO BICO DE SOUZA  PREFEITO   \n",
              "47012   MASCULINO      BRANCA            JOSE LEVY FIDELIX DA CRUZ  PREFEITO   \n",
              "49456    FEMININO      BRANCA                 MARTA TERESA SUPLICY  PREFEITO   \n",
              "111970  MASCULINO      BRANCA           CELSO UBIRAJARA RUSSOMANNO  PREFEITO   \n",
              "148983  MASCULINO      BRANCA                  RICARDO YOUNG SILVA  PREFEITO   \n",
              "218427  MASCULINO      BRANCA             HENRIQUE ÁREAS DE ARAUJO  PREFEITO   \n",
              "372279  MASCULINO       PARDA                 SERGIO OLIMPIO GOMES  PREFEITO   \n",
              "396992  MASCULINO      BRANCA                      FERNANDO HADDAD  PREFEITO   \n",
              "406519   FEMININO      BRANCA              LUIZA ERUNDINA DE SOUSA  PREFEITO   \n",
              "446432  MASCULINO      BRANCA  JOÃO AGRIPINO DA COSTA DORIA JUNIOR  PREFEITO   \n",
              "\n",
              "        VR_DESPESA_MAX_CAMPANHA  \n",
              "5754                45470214.12  \n",
              "33647               45470214.12  \n",
              "47012               45470214.12  \n",
              "49456               45470214.12  \n",
              "111970              45470214.12  \n",
              "148983              45470214.12  \n",
              "218427              45470214.12  \n",
              "372279              45470214.12  \n",
              "396992              45470214.12  \n",
              "406519              45470214.12  \n",
              "446432              45470214.12  "
            ],
            "text/html": [
              "\n",
              "  <div id=\"df-c399d80d-04e5-4114-8a2c-ff3d2afceba6\">\n",
              "    <div class=\"colab-df-container\">\n",
              "      <div>\n",
              "<style scoped>\n",
              "    .dataframe tbody tr th:only-of-type {\n",
              "        vertical-align: middle;\n",
              "    }\n",
              "\n",
              "    .dataframe tbody tr th {\n",
              "        vertical-align: top;\n",
              "    }\n",
              "\n",
              "    .dataframe thead th {\n",
              "        text-align: right;\n",
              "    }\n",
              "</style>\n",
              "<table border=\"1\" class=\"dataframe\">\n",
              "  <thead>\n",
              "    <tr style=\"text-align: right;\">\n",
              "      <th></th>\n",
              "      <th>DS_GENERO</th>\n",
              "      <th>DS_COR_RACA</th>\n",
              "      <th>NM_CANDIDATO</th>\n",
              "      <th>DS_CARGO</th>\n",
              "      <th>VR_DESPESA_MAX_CAMPANHA</th>\n",
              "    </tr>\n",
              "  </thead>\n",
              "  <tbody>\n",
              "    <tr>\n",
              "      <th>5754</th>\n",
              "      <td>MASCULINO</td>\n",
              "      <td>BRANCA</td>\n",
              "      <td>ALTINO DE MELO PRAZERES JÚNIOR</td>\n",
              "      <td>PREFEITO</td>\n",
              "      <td>45470214.12</td>\n",
              "    </tr>\n",
              "    <tr>\n",
              "      <th>33647</th>\n",
              "      <td>MASCULINO</td>\n",
              "      <td>BRANCA</td>\n",
              "      <td>JOÃO BICO DE SOUZA</td>\n",
              "      <td>PREFEITO</td>\n",
              "      <td>45470214.12</td>\n",
              "    </tr>\n",
              "    <tr>\n",
              "      <th>47012</th>\n",
              "      <td>MASCULINO</td>\n",
              "      <td>BRANCA</td>\n",
              "      <td>JOSE LEVY FIDELIX DA CRUZ</td>\n",
              "      <td>PREFEITO</td>\n",
              "      <td>45470214.12</td>\n",
              "    </tr>\n",
              "    <tr>\n",
              "      <th>49456</th>\n",
              "      <td>FEMININO</td>\n",
              "      <td>BRANCA</td>\n",
              "      <td>MARTA TERESA SUPLICY</td>\n",
              "      <td>PREFEITO</td>\n",
              "      <td>45470214.12</td>\n",
              "    </tr>\n",
              "    <tr>\n",
              "      <th>111970</th>\n",
              "      <td>MASCULINO</td>\n",
              "      <td>BRANCA</td>\n",
              "      <td>CELSO UBIRAJARA RUSSOMANNO</td>\n",
              "      <td>PREFEITO</td>\n",
              "      <td>45470214.12</td>\n",
              "    </tr>\n",
              "    <tr>\n",
              "      <th>148983</th>\n",
              "      <td>MASCULINO</td>\n",
              "      <td>BRANCA</td>\n",
              "      <td>RICARDO YOUNG SILVA</td>\n",
              "      <td>PREFEITO</td>\n",
              "      <td>45470214.12</td>\n",
              "    </tr>\n",
              "    <tr>\n",
              "      <th>218427</th>\n",
              "      <td>MASCULINO</td>\n",
              "      <td>BRANCA</td>\n",
              "      <td>HENRIQUE ÁREAS DE ARAUJO</td>\n",
              "      <td>PREFEITO</td>\n",
              "      <td>45470214.12</td>\n",
              "    </tr>\n",
              "    <tr>\n",
              "      <th>372279</th>\n",
              "      <td>MASCULINO</td>\n",
              "      <td>PARDA</td>\n",
              "      <td>SERGIO OLIMPIO GOMES</td>\n",
              "      <td>PREFEITO</td>\n",
              "      <td>45470214.12</td>\n",
              "    </tr>\n",
              "    <tr>\n",
              "      <th>396992</th>\n",
              "      <td>MASCULINO</td>\n",
              "      <td>BRANCA</td>\n",
              "      <td>FERNANDO HADDAD</td>\n",
              "      <td>PREFEITO</td>\n",
              "      <td>45470214.12</td>\n",
              "    </tr>\n",
              "    <tr>\n",
              "      <th>406519</th>\n",
              "      <td>FEMININO</td>\n",
              "      <td>BRANCA</td>\n",
              "      <td>LUIZA ERUNDINA DE SOUSA</td>\n",
              "      <td>PREFEITO</td>\n",
              "      <td>45470214.12</td>\n",
              "    </tr>\n",
              "    <tr>\n",
              "      <th>446432</th>\n",
              "      <td>MASCULINO</td>\n",
              "      <td>BRANCA</td>\n",
              "      <td>JOÃO AGRIPINO DA COSTA DORIA JUNIOR</td>\n",
              "      <td>PREFEITO</td>\n",
              "      <td>45470214.12</td>\n",
              "    </tr>\n",
              "  </tbody>\n",
              "</table>\n",
              "</div>\n",
              "      <button class=\"colab-df-convert\" onclick=\"convertToInteractive('df-c399d80d-04e5-4114-8a2c-ff3d2afceba6')\"\n",
              "              title=\"Convert this dataframe to an interactive table.\"\n",
              "              style=\"display:none;\">\n",
              "        \n",
              "  <svg xmlns=\"http://www.w3.org/2000/svg\" height=\"24px\"viewBox=\"0 0 24 24\"\n",
              "       width=\"24px\">\n",
              "    <path d=\"M0 0h24v24H0V0z\" fill=\"none\"/>\n",
              "    <path d=\"M18.56 5.44l.94 2.06.94-2.06 2.06-.94-2.06-.94-.94-2.06-.94 2.06-2.06.94zm-11 1L8.5 8.5l.94-2.06 2.06-.94-2.06-.94L8.5 2.5l-.94 2.06-2.06.94zm10 10l.94 2.06.94-2.06 2.06-.94-2.06-.94-.94-2.06-.94 2.06-2.06.94z\"/><path d=\"M17.41 7.96l-1.37-1.37c-.4-.4-.92-.59-1.43-.59-.52 0-1.04.2-1.43.59L10.3 9.45l-7.72 7.72c-.78.78-.78 2.05 0 2.83L4 21.41c.39.39.9.59 1.41.59.51 0 1.02-.2 1.41-.59l7.78-7.78 2.81-2.81c.8-.78.8-2.07 0-2.86zM5.41 20L4 18.59l7.72-7.72 1.47 1.35L5.41 20z\"/>\n",
              "  </svg>\n",
              "      </button>\n",
              "      \n",
              "  <style>\n",
              "    .colab-df-container {\n",
              "      display:flex;\n",
              "      flex-wrap:wrap;\n",
              "      gap: 12px;\n",
              "    }\n",
              "\n",
              "    .colab-df-convert {\n",
              "      background-color: #E8F0FE;\n",
              "      border: none;\n",
              "      border-radius: 50%;\n",
              "      cursor: pointer;\n",
              "      display: none;\n",
              "      fill: #1967D2;\n",
              "      height: 32px;\n",
              "      padding: 0 0 0 0;\n",
              "      width: 32px;\n",
              "    }\n",
              "\n",
              "    .colab-df-convert:hover {\n",
              "      background-color: #E2EBFA;\n",
              "      box-shadow: 0px 1px 2px rgba(60, 64, 67, 0.3), 0px 1px 3px 1px rgba(60, 64, 67, 0.15);\n",
              "      fill: #174EA6;\n",
              "    }\n",
              "\n",
              "    [theme=dark] .colab-df-convert {\n",
              "      background-color: #3B4455;\n",
              "      fill: #D2E3FC;\n",
              "    }\n",
              "\n",
              "    [theme=dark] .colab-df-convert:hover {\n",
              "      background-color: #434B5C;\n",
              "      box-shadow: 0px 1px 3px 1px rgba(0, 0, 0, 0.15);\n",
              "      filter: drop-shadow(0px 1px 2px rgba(0, 0, 0, 0.3));\n",
              "      fill: #FFFFFF;\n",
              "    }\n",
              "  </style>\n",
              "\n",
              "      <script>\n",
              "        const buttonEl =\n",
              "          document.querySelector('#df-c399d80d-04e5-4114-8a2c-ff3d2afceba6 button.colab-df-convert');\n",
              "        buttonEl.style.display =\n",
              "          google.colab.kernel.accessAllowed ? 'block' : 'none';\n",
              "\n",
              "        async function convertToInteractive(key) {\n",
              "          const element = document.querySelector('#df-c399d80d-04e5-4114-8a2c-ff3d2afceba6');\n",
              "          const dataTable =\n",
              "            await google.colab.kernel.invokeFunction('convertToInteractive',\n",
              "                                                     [key], {});\n",
              "          if (!dataTable) return;\n",
              "\n",
              "          const docLinkHtml = 'Like what you see? Visit the ' +\n",
              "            '<a target=\"_blank\" href=https://colab.research.google.com/notebooks/data_table.ipynb>data table notebook</a>'\n",
              "            + ' to learn more about interactive tables.';\n",
              "          element.innerHTML = '';\n",
              "          dataTable['output_type'] = 'display_data';\n",
              "          await google.colab.output.renderOutput(dataTable, element);\n",
              "          const docLink = document.createElement('div');\n",
              "          docLink.innerHTML = docLinkHtml;\n",
              "          element.appendChild(docLink);\n",
              "        }\n",
              "      </script>\n",
              "    </div>\n",
              "  </div>\n",
              "  "
            ]
          },
          "metadata": {},
          "execution_count": 16
        }
      ]
    },
    {
      "cell_type": "code",
      "source": [
        "cand2016[cand2016[\"NM_URNA_CANDIDATO\"] == 'FERNANDO HADDAD'][['NM_CANDIDATO','DS_GENERO', 'DS_COR_RACA','' 'DS_CARGO', 'NM_UE', 'SG_UF', 'VR_DESPESA_MAX_CAMPANHA', 'DS_SIT_TOT_TURNO']]"
      ],
      "metadata": {
        "id": "AfWNYX293Eq3",
        "colab": {
          "base_uri": "https://localhost:8080/",
          "height": 81
        },
        "outputId": "f4a3f53f-e260-42b7-8b49-4e27a7754d6b"
      },
      "execution_count": 17,
      "outputs": [
        {
          "output_type": "execute_result",
          "data": {
            "text/plain": [
              "           NM_CANDIDATO  DS_GENERO DS_COR_RACA  DS_CARGO      NM_UE SG_UF  \\\n",
              "396992  FERNANDO HADDAD  MASCULINO      BRANCA  PREFEITO  SÃO PAULO    SP   \n",
              "\n",
              "        VR_DESPESA_MAX_CAMPANHA DS_SIT_TOT_TURNO  \n",
              "396992              45470214.12       NÃO ELEITO  "
            ],
            "text/html": [
              "\n",
              "  <div id=\"df-18e6995b-28a2-4c2f-bbb2-6b0dcb3fa331\">\n",
              "    <div class=\"colab-df-container\">\n",
              "      <div>\n",
              "<style scoped>\n",
              "    .dataframe tbody tr th:only-of-type {\n",
              "        vertical-align: middle;\n",
              "    }\n",
              "\n",
              "    .dataframe tbody tr th {\n",
              "        vertical-align: top;\n",
              "    }\n",
              "\n",
              "    .dataframe thead th {\n",
              "        text-align: right;\n",
              "    }\n",
              "</style>\n",
              "<table border=\"1\" class=\"dataframe\">\n",
              "  <thead>\n",
              "    <tr style=\"text-align: right;\">\n",
              "      <th></th>\n",
              "      <th>NM_CANDIDATO</th>\n",
              "      <th>DS_GENERO</th>\n",
              "      <th>DS_COR_RACA</th>\n",
              "      <th>DS_CARGO</th>\n",
              "      <th>NM_UE</th>\n",
              "      <th>SG_UF</th>\n",
              "      <th>VR_DESPESA_MAX_CAMPANHA</th>\n",
              "      <th>DS_SIT_TOT_TURNO</th>\n",
              "    </tr>\n",
              "  </thead>\n",
              "  <tbody>\n",
              "    <tr>\n",
              "      <th>396992</th>\n",
              "      <td>FERNANDO HADDAD</td>\n",
              "      <td>MASCULINO</td>\n",
              "      <td>BRANCA</td>\n",
              "      <td>PREFEITO</td>\n",
              "      <td>SÃO PAULO</td>\n",
              "      <td>SP</td>\n",
              "      <td>45470214.12</td>\n",
              "      <td>NÃO ELEITO</td>\n",
              "    </tr>\n",
              "  </tbody>\n",
              "</table>\n",
              "</div>\n",
              "      <button class=\"colab-df-convert\" onclick=\"convertToInteractive('df-18e6995b-28a2-4c2f-bbb2-6b0dcb3fa331')\"\n",
              "              title=\"Convert this dataframe to an interactive table.\"\n",
              "              style=\"display:none;\">\n",
              "        \n",
              "  <svg xmlns=\"http://www.w3.org/2000/svg\" height=\"24px\"viewBox=\"0 0 24 24\"\n",
              "       width=\"24px\">\n",
              "    <path d=\"M0 0h24v24H0V0z\" fill=\"none\"/>\n",
              "    <path d=\"M18.56 5.44l.94 2.06.94-2.06 2.06-.94-2.06-.94-.94-2.06-.94 2.06-2.06.94zm-11 1L8.5 8.5l.94-2.06 2.06-.94-2.06-.94L8.5 2.5l-.94 2.06-2.06.94zm10 10l.94 2.06.94-2.06 2.06-.94-2.06-.94-.94-2.06-.94 2.06-2.06.94z\"/><path d=\"M17.41 7.96l-1.37-1.37c-.4-.4-.92-.59-1.43-.59-.52 0-1.04.2-1.43.59L10.3 9.45l-7.72 7.72c-.78.78-.78 2.05 0 2.83L4 21.41c.39.39.9.59 1.41.59.51 0 1.02-.2 1.41-.59l7.78-7.78 2.81-2.81c.8-.78.8-2.07 0-2.86zM5.41 20L4 18.59l7.72-7.72 1.47 1.35L5.41 20z\"/>\n",
              "  </svg>\n",
              "      </button>\n",
              "      \n",
              "  <style>\n",
              "    .colab-df-container {\n",
              "      display:flex;\n",
              "      flex-wrap:wrap;\n",
              "      gap: 12px;\n",
              "    }\n",
              "\n",
              "    .colab-df-convert {\n",
              "      background-color: #E8F0FE;\n",
              "      border: none;\n",
              "      border-radius: 50%;\n",
              "      cursor: pointer;\n",
              "      display: none;\n",
              "      fill: #1967D2;\n",
              "      height: 32px;\n",
              "      padding: 0 0 0 0;\n",
              "      width: 32px;\n",
              "    }\n",
              "\n",
              "    .colab-df-convert:hover {\n",
              "      background-color: #E2EBFA;\n",
              "      box-shadow: 0px 1px 2px rgba(60, 64, 67, 0.3), 0px 1px 3px 1px rgba(60, 64, 67, 0.15);\n",
              "      fill: #174EA6;\n",
              "    }\n",
              "\n",
              "    [theme=dark] .colab-df-convert {\n",
              "      background-color: #3B4455;\n",
              "      fill: #D2E3FC;\n",
              "    }\n",
              "\n",
              "    [theme=dark] .colab-df-convert:hover {\n",
              "      background-color: #434B5C;\n",
              "      box-shadow: 0px 1px 3px 1px rgba(0, 0, 0, 0.15);\n",
              "      filter: drop-shadow(0px 1px 2px rgba(0, 0, 0, 0.3));\n",
              "      fill: #FFFFFF;\n",
              "    }\n",
              "  </style>\n",
              "\n",
              "      <script>\n",
              "        const buttonEl =\n",
              "          document.querySelector('#df-18e6995b-28a2-4c2f-bbb2-6b0dcb3fa331 button.colab-df-convert');\n",
              "        buttonEl.style.display =\n",
              "          google.colab.kernel.accessAllowed ? 'block' : 'none';\n",
              "\n",
              "        async function convertToInteractive(key) {\n",
              "          const element = document.querySelector('#df-18e6995b-28a2-4c2f-bbb2-6b0dcb3fa331');\n",
              "          const dataTable =\n",
              "            await google.colab.kernel.invokeFunction('convertToInteractive',\n",
              "                                                     [key], {});\n",
              "          if (!dataTable) return;\n",
              "\n",
              "          const docLinkHtml = 'Like what you see? Visit the ' +\n",
              "            '<a target=\"_blank\" href=https://colab.research.google.com/notebooks/data_table.ipynb>data table notebook</a>'\n",
              "            + ' to learn more about interactive tables.';\n",
              "          element.innerHTML = '';\n",
              "          dataTable['output_type'] = 'display_data';\n",
              "          await google.colab.output.renderOutput(dataTable, element);\n",
              "          const docLink = document.createElement('div');\n",
              "          docLink.innerHTML = docLinkHtml;\n",
              "          element.appendChild(docLink);\n",
              "        }\n",
              "      </script>\n",
              "    </div>\n",
              "  </div>\n",
              "  "
            ]
          },
          "metadata": {},
          "execution_count": 17
        }
      ]
    },
    {
      "cell_type": "markdown",
      "source": [
        "# ***2020***"
      ],
      "metadata": {
        "id": "AdMDaCkDwpQ2"
      }
    },
    {
      "cell_type": "code",
      "source": [
        "selecao_situacao=cand2020['DS_SITUACAO_CANDIDATURA']==\"INAPTO\"\n",
        "situacao=cand2020[selecao_situacao]\n",
        "quantidade_total_de_candidatos=cand2020.shape[0]\n",
        "quantidade_de_candidatos_inaptos=situacao.shape[0]\n",
        "\n",
        "print(\"{} candidatos de um total de {} estão inaptos a concorrer.\". format(quantidade_de_candidatos_inaptos,quantidade_total_de_candidatos))\n"
      ],
      "metadata": {
        "colab": {
          "base_uri": "https://localhost:8080/"
        },
        "outputId": "c41ce200-73e9-4268-9b80-fde3e8b27fcb",
        "id": "LrdxIISfpGCW"
      },
      "execution_count": 19,
      "outputs": [
        {
          "output_type": "stream",
          "name": "stdout",
          "text": [
            "26167 candidatos de um total de 558313 estão inaptos a concorrer.\n"
          ]
        }
      ]
    },
    {
      "cell_type": "code",
      "source": [
        "cand2020['NM_UE'].nunique()\n",
        "## O Brasil tem 5570 municípios. Em 275 cidades os dados do TSE não estavam preenchidos em 03/05/2022"
      ],
      "metadata": {
        "colab": {
          "base_uri": "https://localhost:8080/"
        },
        "outputId": "c150c9d0-06f5-4a8a-99f9-f4fa9f4dbb9b",
        "id": "9UtMGCJQpGCW"
      },
      "execution_count": 20,
      "outputs": [
        {
          "output_type": "execute_result",
          "data": {
            "text/plain": [
              "5295"
            ]
          },
          "metadata": {},
          "execution_count": 20
        }
      ]
    },
    {
      "cell_type": "code",
      "source": [
        "cand2020['DS_CARGO'].value_counts()"
      ],
      "metadata": {
        "colab": {
          "base_uri": "https://localhost:8080/"
        },
        "outputId": "0839c080-42af-44fd-f3e8-b7c2854cada2",
        "id": "_Yiiwa-xpGCW"
      },
      "execution_count": 21,
      "outputs": [
        {
          "output_type": "execute_result",
          "data": {
            "text/plain": [
              "VEREADOR         518485\n",
              "VICE-PREFEITO     20134\n",
              "PREFEITO          19694\n",
              "Name: DS_CARGO, dtype: int64"
            ]
          },
          "metadata": {},
          "execution_count": 21
        }
      ]
    },
    {
      "cell_type": "code",
      "source": [
        "cand2020['DS_COR_RACA'].value_counts()"
      ],
      "metadata": {
        "colab": {
          "base_uri": "https://localhost:8080/"
        },
        "outputId": "8686829e-5f47-4c38-8ab2-e43e1256d8dd",
        "id": "311SlFBKpGCX"
      },
      "execution_count": 22,
      "outputs": [
        {
          "output_type": "execute_result",
          "data": {
            "text/plain": [
              "BRANCA            268368\n",
              "PARDA             220401\n",
              "PRETA              58716\n",
              "NÃO INFORMADO       6367\n",
              "INDÍGENA            2218\n",
              "AMARELA             1964\n",
              "NÃO DIVULGÁVEL       279\n",
              "Name: DS_COR_RACA, dtype: int64"
            ]
          },
          "metadata": {},
          "execution_count": 22
        }
      ]
    },
    {
      "cell_type": "code",
      "source": [
        "cand2020[cand2020['DS_COR_RACA']=='PRETA']['NR_IDADE_DATA_POSSE'].count()"
      ],
      "metadata": {
        "colab": {
          "base_uri": "https://localhost:8080/"
        },
        "outputId": "676944e8-811a-4a3d-89a1-43577c57ab7b",
        "id": "yrHdt6KipGCX"
      },
      "execution_count": 23,
      "outputs": [
        {
          "output_type": "execute_result",
          "data": {
            "text/plain": [
              "58716"
            ]
          },
          "metadata": {},
          "execution_count": 23
        }
      ]
    },
    {
      "cell_type": "code",
      "source": [
        "cand2020['DS_GENERO'].value_counts()"
      ],
      "metadata": {
        "colab": {
          "base_uri": "https://localhost:8080/"
        },
        "outputId": "28fe454e-b395-47b4-b0a7-341f14a15bdf",
        "id": "pCRiMnU9pGCZ"
      },
      "execution_count": 24,
      "outputs": [
        {
          "output_type": "execute_result",
          "data": {
            "text/plain": [
              "MASCULINO         370877\n",
              "FEMININO          187157\n",
              "NÃO DIVULGÁVEL       279\n",
              "Name: DS_GENERO, dtype: int64"
            ]
          },
          "metadata": {},
          "execution_count": 24
        }
      ]
    },
    {
      "cell_type": "code",
      "source": [
        "cand2020.groupby('DS_GENERO')['DS_COR_RACA'].value_counts().unstack().plot(kind='bar', stacked=True);\n",
        "\n",
        "# plt.xticks(rotation=60);\n",
        "plt.rcParams[\"figure.figsize\"] = (12,8);\n",
        "plt.title('Sexo eleições 2016 por raça ou cor');"
      ],
      "metadata": {
        "colab": {
          "base_uri": "https://localhost:8080/",
          "height": 584
        },
        "outputId": "e0714ead-9741-46be-e275-fee59ca9a370",
        "id": "vkHcz8JSpGCZ"
      },
      "execution_count": 25,
      "outputs": [
        {
          "output_type": "display_data",
          "data": {
            "text/plain": [
              "<Figure size 1440x576 with 1 Axes>"
            ],
            "image/png": "[encoded data removed]"
          },
          "metadata": {
            "needs_background": "light"
          }
        }
      ]
    },
    {
      "cell_type": "code",
      "source": [
        "cand2020.groupby('DS_COR_RACA')['DS_GRAU_INSTRUCAO'].value_counts().unstack().plot(kind='barh', stacked=True);\n",
        "# plt.xticks(rotation=40);\n",
        "plt.rcParams[\"figure.figsize\"] = (20,8);\n",
        "plt.title('Grau de instrução 2016 por raça ou cor');"
      ],
      "metadata": {
        "colab": {
          "base_uri": "https://localhost:8080/",
          "height": 499
        },
        "outputId": "c5e2c8f6-8514-4cfd-a073-8472bb5d417e",
        "id": "I56n2kagpGCZ"
      },
      "execution_count": 26,
      "outputs": [
        {
          "output_type": "display_data",
          "data": {
            "text/plain": [
              "<Figure size 864x576 with 1 Axes>"
            ],
            "image/png": "[encoded data removed]"
          },
          "metadata": {
            "needs_background": "light"
          }
        }
      ]
    },
    {
      "cell_type": "code",
      "source": [
        "#Constsite no Valor máximo, em reais, de despesas de campanha declarada pelo partido\n",
        "despesas=cand2020[['DS_COR_RACA', 'VR_DESPESA_MAX_CAMPANHA']].groupby('DS_COR_RACA').mean().sort_values('VR_DESPESA_MAX_CAMPANHA', ascending=False)\n",
        "despesas\n"
      ],
      "metadata": {
        "id": "-nVYmZWxpGCa",
        "colab": {
          "base_uri": "https://localhost:8080/",
          "height": 300
        },
        "outputId": "a71d31f8-a288-4488-b10f-bd654bec86a5"
      },
      "execution_count": 27,
      "outputs": [
        {
          "output_type": "execute_result",
          "data": {
            "text/plain": [
              "                VR_DESPESA_MAX_CAMPANHA\n",
              "DS_COR_RACA                            \n",
              "PRETA                     125589.793954\n",
              "AMARELA                   121195.215362\n",
              "BRANCA                    104280.364762\n",
              "PARDA                      85264.425436\n",
              "NÃO INFORMADO              78037.391407\n",
              "INDÍGENA                   69612.716132\n",
              "NÃO DIVULGÁVEL                -4.000000"
            ],
            "text/html": [
              "\n",
              "  <div id=\"df-e8ca8f41-47cf-4c84-8bc3-a2917395d7c9\">\n",
              "    <div class=\"colab-df-container\">\n",
              "      <div>\n",
              "<style scoped>\n",
              "    .dataframe tbody tr th:only-of-type {\n",
              "        vertical-align: middle;\n",
              "    }\n",
              "\n",
              "    .dataframe tbody tr th {\n",
              "        vertical-align: top;\n",
              "    }\n",
              "\n",
              "    .dataframe thead th {\n",
              "        text-align: right;\n",
              "    }\n",
              "</style>\n",
              "<table border=\"1\" class=\"dataframe\">\n",
              "  <thead>\n",
              "    <tr style=\"text-align: right;\">\n",
              "      <th></th>\n",
              "      <th>VR_DESPESA_MAX_CAMPANHA</th>\n",
              "    </tr>\n",
              "    <tr>\n",
              "      <th>DS_COR_RACA</th>\n",
              "      <th></th>\n",
              "    </tr>\n",
              "  </thead>\n",
              "  <tbody>\n",
              "    <tr>\n",
              "      <th>PRETA</th>\n",
              "      <td>125589.793954</td>\n",
              "    </tr>\n",
              "    <tr>\n",
              "      <th>AMARELA</th>\n",
              "      <td>121195.215362</td>\n",
              "    </tr>\n",
              "    <tr>\n",
              "      <th>BRANCA</th>\n",
              "      <td>104280.364762</td>\n",
              "    </tr>\n",
              "    <tr>\n",
              "      <th>PARDA</th>\n",
              "      <td>85264.425436</td>\n",
              "    </tr>\n",
              "    <tr>\n",
              "      <th>NÃO INFORMADO</th>\n",
              "      <td>78037.391407</td>\n",
              "    </tr>\n",
              "    <tr>\n",
              "      <th>INDÍGENA</th>\n",
              "      <td>69612.716132</td>\n",
              "    </tr>\n",
              "    <tr>\n",
              "      <th>NÃO DIVULGÁVEL</th>\n",
              "      <td>-4.000000</td>\n",
              "    </tr>\n",
              "  </tbody>\n",
              "</table>\n",
              "</div>\n",
              "      <button class=\"colab-df-convert\" onclick=\"convertToInteractive('df-e8ca8f41-47cf-4c84-8bc3-a2917395d7c9')\"\n",
              "              title=\"Convert this dataframe to an interactive table.\"\n",
              "              style=\"display:none;\">\n",
              "        \n",
              "  <svg xmlns=\"http://www.w3.org/2000/svg\" height=\"24px\"viewBox=\"0 0 24 24\"\n",
              "       width=\"24px\">\n",
              "    <path d=\"M0 0h24v24H0V0z\" fill=\"none\"/>\n",
              "    <path d=\"M18.56 5.44l.94 2.06.94-2.06 2.06-.94-2.06-.94-.94-2.06-.94 2.06-2.06.94zm-11 1L8.5 8.5l.94-2.06 2.06-.94-2.06-.94L8.5 2.5l-.94 2.06-2.06.94zm10 10l.94 2.06.94-2.06 2.06-.94-2.06-.94-.94-2.06-.94 2.06-2.06.94z\"/><path d=\"M17.41 7.96l-1.37-1.37c-.4-.4-.92-.59-1.43-.59-.52 0-1.04.2-1.43.59L10.3 9.45l-7.72 7.72c-.78.78-.78 2.05 0 2.83L4 21.41c.39.39.9.59 1.41.59.51 0 1.02-.2 1.41-.59l7.78-7.78 2.81-2.81c.8-.78.8-2.07 0-2.86zM5.41 20L4 18.59l7.72-7.72 1.47 1.35L5.41 20z\"/>\n",
              "  </svg>\n",
              "      </button>\n",
              "      \n",
              "  <style>\n",
              "    .colab-df-container {\n",
              "      display:flex;\n",
              "      flex-wrap:wrap;\n",
              "      gap: 12px;\n",
              "    }\n",
              "\n",
              "    .colab-df-convert {\n",
              "      background-color: #E8F0FE;\n",
              "      border: none;\n",
              "      border-radius: 50%;\n",
              "      cursor: pointer;\n",
              "      display: none;\n",
              "      fill: #1967D2;\n",
              "      height: 32px;\n",
              "      padding: 0 0 0 0;\n",
              "      width: 32px;\n",
              "    }\n",
              "\n",
              "    .colab-df-convert:hover {\n",
              "      background-color: #E2EBFA;\n",
              "      box-shadow: 0px 1px 2px rgba(60, 64, 67, 0.3), 0px 1px 3px 1px rgba(60, 64, 67, 0.15);\n",
              "      fill: #174EA6;\n",
              "    }\n",
              "\n",
              "    [theme=dark] .colab-df-convert {\n",
              "      background-color: #3B4455;\n",
              "      fill: #D2E3FC;\n",
              "    }\n",
              "\n",
              "    [theme=dark] .colab-df-convert:hover {\n",
              "      background-color: #434B5C;\n",
              "      box-shadow: 0px 1px 3px 1px rgba(0, 0, 0, 0.15);\n",
              "      filter: drop-shadow(0px 1px 2px rgba(0, 0, 0, 0.3));\n",
              "      fill: #FFFFFF;\n",
              "    }\n",
              "  </style>\n",
              "\n",
              "      <script>\n",
              "        const buttonEl =\n",
              "          document.querySelector('#df-e8ca8f41-47cf-4c84-8bc3-a2917395d7c9 button.colab-df-convert');\n",
              "        buttonEl.style.display =\n",
              "          google.colab.kernel.accessAllowed ? 'block' : 'none';\n",
              "\n",
              "        async function convertToInteractive(key) {\n",
              "          const element = document.querySelector('#df-e8ca8f41-47cf-4c84-8bc3-a2917395d7c9');\n",
              "          const dataTable =\n",
              "            await google.colab.kernel.invokeFunction('convertToInteractive',\n",
              "                                                     [key], {});\n",
              "          if (!dataTable) return;\n",
              "\n",
              "          const docLinkHtml = 'Like what you see? Visit the ' +\n",
              "            '<a target=\"_blank\" href=https://colab.research.google.com/notebooks/data_table.ipynb>data table notebook</a>'\n",
              "            + ' to learn more about interactive tables.';\n",
              "          element.innerHTML = '';\n",
              "          dataTable['output_type'] = 'display_data';\n",
              "          await google.colab.output.renderOutput(dataTable, element);\n",
              "          const docLink = document.createElement('div');\n",
              "          docLink.innerHTML = docLinkHtml;\n",
              "          element.appendChild(docLink);\n",
              "        }\n",
              "      </script>\n",
              "    </div>\n",
              "  </div>\n",
              "  "
            ]
          },
          "metadata": {},
          "execution_count": 27
        }
      ]
    },
    {
      "cell_type": "code",
      "source": [
        "cand2020[cand2020['VR_DESPESA_MAX_CAMPANHA'] == cand2020['VR_DESPESA_MAX_CAMPANHA'].max()][['DS_GENERO', 'DS_COR_RACA', 'NM_CANDIDATO', 'DS_CARGO', 'VR_DESPESA_MAX_CAMPANHA']]"
      ],
      "metadata": {
        "colab": {
          "base_uri": "https://localhost:8080/",
          "height": 488
        },
        "id": "g8puzwZMpGCa",
        "outputId": "e8efe41a-a26e-4409-f082-ddbda56256e2"
      },
      "execution_count": 28,
      "outputs": [
        {
          "output_type": "execute_result",
          "data": {
            "text/plain": [
              "        DS_GENERO DS_COR_RACA                         NM_CANDIDATO  DS_CARGO  \\\n",
              "32099   MASCULINO      BRANCA                 ARTHUR MOLEDO DO VAL  PREFEITO   \n",
              "36429   MASCULINO      BRANCA           CELSO UBIRAJARA RUSSOMANNO  PREFEITO   \n",
              "148573  MASCULINO       PRETA                 ANTÔNIO CARLOS SILVA  PREFEITO   \n",
              "149076  MASCULINO      BRANCA              ANGELO ANDREA MATARAZZO  PREFEITO   \n",
              "159450  MASCULINO      BRANCA             MÁRCIO LUIZ FRANÇA GOMES  PREFEITO   \n",
              "190332  MASCULINO      BRANCA              GUILHERME CASTRO BOULOS  PREFEITO   \n",
              "276246  MASCULINO       PRETA        ORLANDO SILVA DE JESUS JUNIOR  PREFEITO   \n",
              "290337  MASCULINO      BRANCA              FILIPE TOMAZELLI SABARA  PREFEITO   \n",
              "307489   FEMININO      BRANCA            JOICE CRISTINA HASSELMANN  PREFEITO   \n",
              "423262  MASCULINO      BRANCA              JILMAR AUGUSTINHO TATTO  PREFEITO   \n",
              "492819  MASCULINO      BRANCA                    BRUNO COVAS LOPES  PREFEITO   \n",
              "497010  MASCULINO      BRANCA            JOSE LEVY FIDELIX DA CRUZ  PREFEITO   \n",
              "501762   FEMININO       PRETA  VERA LUCIA PEREIRA DA SILVA SALGADO  PREFEITO   \n",
              "528928   FEMININO      BRANCA                MARINA MEDEIROS HELOU  PREFEITO   \n",
              "\n",
              "        VR_DESPESA_MAX_CAMPANHA  \n",
              "32099               51799383.68  \n",
              "36429               51799383.68  \n",
              "148573              51799383.68  \n",
              "149076              51799383.68  \n",
              "159450              51799383.68  \n",
              "190332              51799383.68  \n",
              "276246              51799383.68  \n",
              "290337              51799383.68  \n",
              "307489              51799383.68  \n",
              "423262              51799383.68  \n",
              "492819              51799383.68  \n",
              "497010              51799383.68  \n",
              "501762              51799383.68  \n",
              "528928              51799383.68  "
            ],
            "text/html": [
              "\n",
              "  <div id=\"df-bf2cd393-72bd-4f2c-a9dc-19fc63e54887\">\n",
              "    <div class=\"colab-df-container\">\n",
              "      <div>\n",
              "<style scoped>\n",
              "    .dataframe tbody tr th:only-of-type {\n",
              "        vertical-align: middle;\n",
              "    }\n",
              "\n",
              "    .dataframe tbody tr th {\n",
              "        vertical-align: top;\n",
              "    }\n",
              "\n",
              "    .dataframe thead th {\n",
              "        text-align: right;\n",
              "    }\n",
              "</style>\n",
              "<table border=\"1\" class=\"dataframe\">\n",
              "  <thead>\n",
              "    <tr style=\"text-align: right;\">\n",
              "      <th></th>\n",
              "      <th>DS_GENERO</th>\n",
              "      <th>DS_COR_RACA</th>\n",
              "      <th>NM_CANDIDATO</th>\n",
              "      <th>DS_CARGO</th>\n",
              "      <th>VR_DESPESA_MAX_CAMPANHA</th>\n",
              "    </tr>\n",
              "  </thead>\n",
              "  <tbody>\n",
              "    <tr>\n",
              "      <th>32099</th>\n",
              "      <td>MASCULINO</td>\n",
              "      <td>BRANCA</td>\n",
              "      <td>ARTHUR MOLEDO DO VAL</td>\n",
              "      <td>PREFEITO</td>\n",
              "      <td>51799383.68</td>\n",
              "    </tr>\n",
              "    <tr>\n",
              "      <th>36429</th>\n",
              "      <td>MASCULINO</td>\n",
              "      <td>BRANCA</td>\n",
              "      <td>CELSO UBIRAJARA RUSSOMANNO</td>\n",
              "      <td>PREFEITO</td>\n",
              "      <td>51799383.68</td>\n",
              "    </tr>\n",
              "    <tr>\n",
              "      <th>148573</th>\n",
              "      <td>MASCULINO</td>\n",
              "      <td>PRETA</td>\n",
              "      <td>ANTÔNIO CARLOS SILVA</td>\n",
              "      <td>PREFEITO</td>\n",
              "      <td>51799383.68</td>\n",
              "    </tr>\n",
              "    <tr>\n",
              "      <th>149076</th>\n",
              "      <td>MASCULINO</td>\n",
              "      <td>BRANCA</td>\n",
              "      <td>ANGELO ANDREA MATARAZZO</td>\n",
              "      <td>PREFEITO</td>\n",
              "      <td>51799383.68</td>\n",
              "    </tr>\n",
              "    <tr>\n",
              "      <th>159450</th>\n",
              "      <td>MASCULINO</td>\n",
              "      <td>BRANCA</td>\n",
              "      <td>MÁRCIO LUIZ FRANÇA GOMES</td>\n",
              "      <td>PREFEITO</td>\n",
              "      <td>51799383.68</td>\n",
              "    </tr>\n",
              "    <tr>\n",
              "      <th>190332</th>\n",
              "      <td>MASCULINO</td>\n",
              "      <td>BRANCA</td>\n",
              "      <td>GUILHERME CASTRO BOULOS</td>\n",
              "      <td>PREFEITO</td>\n",
              "      <td>51799383.68</td>\n",
              "    </tr>\n",
              "    <tr>\n",
              "      <th>276246</th>\n",
              "      <td>MASCULINO</td>\n",
              "      <td>PRETA</td>\n",
              "      <td>ORLANDO SILVA DE JESUS JUNIOR</td>\n",
              "      <td>PREFEITO</td>\n",
              "      <td>51799383.68</td>\n",
              "    </tr>\n",
              "    <tr>\n",
              "      <th>290337</th>\n",
              "      <td>MASCULINO</td>\n",
              "      <td>BRANCA</td>\n",
              "      <td>FILIPE TOMAZELLI SABARA</td>\n",
              "      <td>PREFEITO</td>\n",
              "      <td>51799383.68</td>\n",
              "    </tr>\n",
              "    <tr>\n",
              "      <th>307489</th>\n",
              "      <td>FEMININO</td>\n",
              "      <td>BRANCA</td>\n",
              "      <td>JOICE CRISTINA HASSELMANN</td>\n",
              "      <td>PREFEITO</td>\n",
              "      <td>51799383.68</td>\n",
              "    </tr>\n",
              "    <tr>\n",
              "      <th>423262</th>\n",
              "      <td>MASCULINO</td>\n",
              "      <td>BRANCA</td>\n",
              "      <td>JILMAR AUGUSTINHO TATTO</td>\n",
              "      <td>PREFEITO</td>\n",
              "      <td>51799383.68</td>\n",
              "    </tr>\n",
              "    <tr>\n",
              "      <th>492819</th>\n",
              "      <td>MASCULINO</td>\n",
              "      <td>BRANCA</td>\n",
              "      <td>BRUNO COVAS LOPES</td>\n",
              "      <td>PREFEITO</td>\n",
              "      <td>51799383.68</td>\n",
              "    </tr>\n",
              "    <tr>\n",
              "      <th>497010</th>\n",
              "      <td>MASCULINO</td>\n",
              "      <td>BRANCA</td>\n",
              "      <td>JOSE LEVY FIDELIX DA CRUZ</td>\n",
              "      <td>PREFEITO</td>\n",
              "      <td>51799383.68</td>\n",
              "    </tr>\n",
              "    <tr>\n",
              "      <th>501762</th>\n",
              "      <td>FEMININO</td>\n",
              "      <td>PRETA</td>\n",
              "      <td>VERA LUCIA PEREIRA DA SILVA SALGADO</td>\n",
              "      <td>PREFEITO</td>\n",
              "      <td>51799383.68</td>\n",
              "    </tr>\n",
              "    <tr>\n",
              "      <th>528928</th>\n",
              "      <td>FEMININO</td>\n",
              "      <td>BRANCA</td>\n",
              "      <td>MARINA MEDEIROS HELOU</td>\n",
              "      <td>PREFEITO</td>\n",
              "      <td>51799383.68</td>\n",
              "    </tr>\n",
              "  </tbody>\n",
              "</table>\n",
              "</div>\n",
              "      <button class=\"colab-df-convert\" onclick=\"convertToInteractive('df-bf2cd393-72bd-4f2c-a9dc-19fc63e54887')\"\n",
              "              title=\"Convert this dataframe to an interactive table.\"\n",
              "              style=\"display:none;\">\n",
              "        \n",
              "  <svg xmlns=\"http://www.w3.org/2000/svg\" height=\"24px\"viewBox=\"0 0 24 24\"\n",
              "       width=\"24px\">\n",
              "    <path d=\"M0 0h24v24H0V0z\" fill=\"none\"/>\n",
              "    <path d=\"M18.56 5.44l.94 2.06.94-2.06 2.06-.94-2.06-.94-.94-2.06-.94 2.06-2.06.94zm-11 1L8.5 8.5l.94-2.06 2.06-.94-2.06-.94L8.5 2.5l-.94 2.06-2.06.94zm10 10l.94 2.06.94-2.06 2.06-.94-2.06-.94-.94-2.06-.94 2.06-2.06.94z\"/><path d=\"M17.41 7.96l-1.37-1.37c-.4-.4-.92-.59-1.43-.59-.52 0-1.04.2-1.43.59L10.3 9.45l-7.72 7.72c-.78.78-.78 2.05 0 2.83L4 21.41c.39.39.9.59 1.41.59.51 0 1.02-.2 1.41-.59l7.78-7.78 2.81-2.81c.8-.78.8-2.07 0-2.86zM5.41 20L4 18.59l7.72-7.72 1.47 1.35L5.41 20z\"/>\n",
              "  </svg>\n",
              "      </button>\n",
              "      \n",
              "  <style>\n",
              "    .colab-df-container {\n",
              "      display:flex;\n",
              "      flex-wrap:wrap;\n",
              "      gap: 12px;\n",
              "    }\n",
              "\n",
              "    .colab-df-convert {\n",
              "      background-color: #E8F0FE;\n",
              "      border: none;\n",
              "      border-radius: 50%;\n",
              "      cursor: pointer;\n",
              "      display: none;\n",
              "      fill: #1967D2;\n",
              "      height: 32px;\n",
              "      padding: 0 0 0 0;\n",
              "      width: 32px;\n",
              "    }\n",
              "\n",
              "    .colab-df-convert:hover {\n",
              "      background-color: #E2EBFA;\n",
              "      box-shadow: 0px 1px 2px rgba(60, 64, 67, 0.3), 0px 1px 3px 1px rgba(60, 64, 67, 0.15);\n",
              "      fill: #174EA6;\n",
              "    }\n",
              "\n",
              "    [theme=dark] .colab-df-convert {\n",
              "      background-color: #3B4455;\n",
              "      fill: #D2E3FC;\n",
              "    }\n",
              "\n",
              "    [theme=dark] .colab-df-convert:hover {\n",
              "      background-color: #434B5C;\n",
              "      box-shadow: 0px 1px 3px 1px rgba(0, 0, 0, 0.15);\n",
              "      filter: drop-shadow(0px 1px 2px rgba(0, 0, 0, 0.3));\n",
              "      fill: #FFFFFF;\n",
              "    }\n",
              "  </style>\n",
              "\n",
              "      <script>\n",
              "        const buttonEl =\n",
              "          document.querySelector('#df-bf2cd393-72bd-4f2c-a9dc-19fc63e54887 button.colab-df-convert');\n",
              "        buttonEl.style.display =\n",
              "          google.colab.kernel.accessAllowed ? 'block' : 'none';\n",
              "\n",
              "        async function convertToInteractive(key) {\n",
              "          const element = document.querySelector('#df-bf2cd393-72bd-4f2c-a9dc-19fc63e54887');\n",
              "          const dataTable =\n",
              "            await google.colab.kernel.invokeFunction('convertToInteractive',\n",
              "                                                     [key], {});\n",
              "          if (!dataTable) return;\n",
              "\n",
              "          const docLinkHtml = 'Like what you see? Visit the ' +\n",
              "            '<a target=\"_blank\" href=https://colab.research.google.com/notebooks/data_table.ipynb>data table notebook</a>'\n",
              "            + ' to learn more about interactive tables.';\n",
              "          element.innerHTML = '';\n",
              "          dataTable['output_type'] = 'display_data';\n",
              "          await google.colab.output.renderOutput(dataTable, element);\n",
              "          const docLink = document.createElement('div');\n",
              "          docLink.innerHTML = docLinkHtml;\n",
              "          element.appendChild(docLink);\n",
              "        }\n",
              "      </script>\n",
              "    </div>\n",
              "  </div>\n",
              "  "
            ]
          },
          "metadata": {},
          "execution_count": 28
        }
      ]
    },
    {
      "cell_type": "code",
      "source": [
        "cand2020[cand2020[\"NM_URNA_CANDIDATO\"] == 'JAIR BOLSONARO'][['NM_CANDIDATO','DS_GENERO', 'DS_COR_RACA','' 'DS_CARGO', 'NM_UE', 'SG_UF', 'VR_DESPESA_MAX_CAMPANHA', 'DS_SIT_TOT_TURNO']]"
      ],
      "metadata": {
        "colab": {
          "base_uri": "https://localhost:8080/",
          "height": 81
        },
        "outputId": "99119551-8694-476f-c290-057cf5ddee8b",
        "id": "H1RXiviOpGCa"
      },
      "execution_count": 29,
      "outputs": [
        {
          "output_type": "execute_result",
          "data": {
            "text/plain": [
              "            NM_CANDIDATO  DS_GENERO DS_COR_RACA  DS_CARGO             NM_UE  \\\n",
              "259114  JAIR SOUSA SILVA  MASCULINO       PARDA  VEREADOR  LARANJAL DO JARI   \n",
              "\n",
              "       SG_UF  VR_DESPESA_MAX_CAMPANHA DS_SIT_TOT_TURNO  \n",
              "259114    AP                 16660.31       NÃO ELEITO  "
            ],
            "text/html": [
              "\n",
              "  <div id=\"df-27a13147-f53f-49dc-b070-bd495ba65a50\">\n",
              "    <div class=\"colab-df-container\">\n",
              "      <div>\n",
              "<style scoped>\n",
              "    .dataframe tbody tr th:only-of-type {\n",
              "        vertical-align: middle;\n",
              "    }\n",
              "\n",
              "    .dataframe tbody tr th {\n",
              "        vertical-align: top;\n",
              "    }\n",
              "\n",
              "    .dataframe thead th {\n",
              "        text-align: right;\n",
              "    }\n",
              "</style>\n",
              "<table border=\"1\" class=\"dataframe\">\n",
              "  <thead>\n",
              "    <tr style=\"text-align: right;\">\n",
              "      <th></th>\n",
              "      <th>NM_CANDIDATO</th>\n",
              "      <th>DS_GENERO</th>\n",
              "      <th>DS_COR_RACA</th>\n",
              "      <th>DS_CARGO</th>\n",
              "      <th>NM_UE</th>\n",
              "      <th>SG_UF</th>\n",
              "      <th>VR_DESPESA_MAX_CAMPANHA</th>\n",
              "      <th>DS_SIT_TOT_TURNO</th>\n",
              "    </tr>\n",
              "  </thead>\n",
              "  <tbody>\n",
              "    <tr>\n",
              "      <th>259114</th>\n",
              "      <td>JAIR SOUSA SILVA</td>\n",
              "      <td>MASCULINO</td>\n",
              "      <td>PARDA</td>\n",
              "      <td>VEREADOR</td>\n",
              "      <td>LARANJAL DO JARI</td>\n",
              "      <td>AP</td>\n",
              "      <td>16660.31</td>\n",
              "      <td>NÃO ELEITO</td>\n",
              "    </tr>\n",
              "  </tbody>\n",
              "</table>\n",
              "</div>\n",
              "      <button class=\"colab-df-convert\" onclick=\"convertToInteractive('df-27a13147-f53f-49dc-b070-bd495ba65a50')\"\n",
              "              title=\"Convert this dataframe to an interactive table.\"\n",
              "              style=\"display:none;\">\n",
              "        \n",
              "  <svg xmlns=\"http://www.w3.org/2000/svg\" height=\"24px\"viewBox=\"0 0 24 24\"\n",
              "       width=\"24px\">\n",
              "    <path d=\"M0 0h24v24H0V0z\" fill=\"none\"/>\n",
              "    <path d=\"M18.56 5.44l.94 2.06.94-2.06 2.06-.94-2.06-.94-.94-2.06-.94 2.06-2.06.94zm-11 1L8.5 8.5l.94-2.06 2.06-.94-2.06-.94L8.5 2.5l-.94 2.06-2.06.94zm10 10l.94 2.06.94-2.06 2.06-.94-2.06-.94-.94-2.06-.94 2.06-2.06.94z\"/><path d=\"M17.41 7.96l-1.37-1.37c-.4-.4-.92-.59-1.43-.59-.52 0-1.04.2-1.43.59L10.3 9.45l-7.72 7.72c-.78.78-.78 2.05 0 2.83L4 21.41c.39.39.9.59 1.41.59.51 0 1.02-.2 1.41-.59l7.78-7.78 2.81-2.81c.8-.78.8-2.07 0-2.86zM5.41 20L4 18.59l7.72-7.72 1.47 1.35L5.41 20z\"/>\n",
              "  </svg>\n",
              "      </button>\n",
              "      \n",
              "  <style>\n",
              "    .colab-df-container {\n",
              "      display:flex;\n",
              "      flex-wrap:wrap;\n",
              "      gap: 12px;\n",
              "    }\n",
              "\n",
              "    .colab-df-convert {\n",
              "      background-color: #E8F0FE;\n",
              "      border: none;\n",
              "      border-radius: 50%;\n",
              "      cursor: pointer;\n",
              "      display: none;\n",
              "      fill: #1967D2;\n",
              "      height: 32px;\n",
              "      padding: 0 0 0 0;\n",
              "      width: 32px;\n",
              "    }\n",
              "\n",
              "    .colab-df-convert:hover {\n",
              "      background-color: #E2EBFA;\n",
              "      box-shadow: 0px 1px 2px rgba(60, 64, 67, 0.3), 0px 1px 3px 1px rgba(60, 64, 67, 0.15);\n",
              "      fill: #174EA6;\n",
              "    }\n",
              "\n",
              "    [theme=dark] .colab-df-convert {\n",
              "      background-color: #3B4455;\n",
              "      fill: #D2E3FC;\n",
              "    }\n",
              "\n",
              "    [theme=dark] .colab-df-convert:hover {\n",
              "      background-color: #434B5C;\n",
              "      box-shadow: 0px 1px 3px 1px rgba(0, 0, 0, 0.15);\n",
              "      filter: drop-shadow(0px 1px 2px rgba(0, 0, 0, 0.3));\n",
              "      fill: #FFFFFF;\n",
              "    }\n",
              "  </style>\n",
              "\n",
              "      <script>\n",
              "        const buttonEl =\n",
              "          document.querySelector('#df-27a13147-f53f-49dc-b070-bd495ba65a50 button.colab-df-convert');\n",
              "        buttonEl.style.display =\n",
              "          google.colab.kernel.accessAllowed ? 'block' : 'none';\n",
              "\n",
              "        async function convertToInteractive(key) {\n",
              "          const element = document.querySelector('#df-27a13147-f53f-49dc-b070-bd495ba65a50');\n",
              "          const dataTable =\n",
              "            await google.colab.kernel.invokeFunction('convertToInteractive',\n",
              "                                                     [key], {});\n",
              "          if (!dataTable) return;\n",
              "\n",
              "          const docLinkHtml = 'Like what you see? Visit the ' +\n",
              "            '<a target=\"_blank\" href=https://colab.research.google.com/notebooks/data_table.ipynb>data table notebook</a>'\n",
              "            + ' to learn more about interactive tables.';\n",
              "          element.innerHTML = '';\n",
              "          dataTable['output_type'] = 'display_data';\n",
              "          await google.colab.output.renderOutput(dataTable, element);\n",
              "          const docLink = document.createElement('div');\n",
              "          docLink.innerHTML = docLinkHtml;\n",
              "          element.appendChild(docLink);\n",
              "        }\n",
              "      </script>\n",
              "    </div>\n",
              "  </div>\n",
              "  "
            ]
          },
          "metadata": {},
          "execution_count": 29
        }
      ]
    },
    {
      "cell_type": "markdown",
      "source": [
        "# ***2016-2020***"
      ],
      "metadata": {
        "id": "34-LuYYGp6pM"
      }
    },
    {
      "cell_type": "code",
      "source": [
        "df_final = pd.concat([cand2016,cand2020], axis=0)"
      ],
      "metadata": {
        "id": "SQ9-jE-Fp9CG"
      },
      "execution_count": 30,
      "outputs": []
    },
    {
      "cell_type": "code",
      "source": [
        "grafico_cor = ['#7BD5F5', '#787FF6'] \n",
        "df_final.groupby('DS_COR_RACA')['ANO_ELEICAO'].value_counts().unstack().plot(kind='barh', stacked=True, color=grafico_cor);\n",
        "\n",
        "# plt.xticks(rotation=60)\n",
        "plt.rcParams[\"figure.figsize\"] = (10,10);\n",
        "plt.title('Faixa etária do eleiorado 2022 por gênero.');"
      ],
      "metadata": {
        "id": "Qi4xDEB1p_OM"
      },
      "execution_count": null,
      "outputs": []
    },
    {
      "cell_type": "code",
      "source": [
        "grafico_cor = ['#2F4F4F', '#ffff99'] \n",
        "\n",
        "fig, ax = plt.subplots(figsize=(10,8))\n",
        "plt.title('Eleitorado 2018 x 2020 por faixa etária')\n",
        "ax = sns.countplot(x = 'DS_GENERO', hue = 'ANO_ELEICAO', data = df_final)\n",
        "ax.set_xlabel('Iade')\n",
        "ax.set_ylabel('Ano')\n",
        "plt.show()"
      ],
      "metadata": {
        "id": "21VtMGRhvbvt"
      },
      "execution_count": null,
      "outputs": []
    }
  ]
}