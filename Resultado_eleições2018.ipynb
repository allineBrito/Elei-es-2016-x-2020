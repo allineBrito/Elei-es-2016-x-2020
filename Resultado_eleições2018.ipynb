{
  "nbformat": 4,
  "nbformat_minor": 0,
  "metadata": {
    "colab": {
      "name": "Resultado_eleições2018.ipynb",
      "provenance": [],
      "mount_file_id": "1RxZ0BdKPvB5q9OXww2zGEKf5N4ZpKG3A",
      "authorship_tag": "ABX9TyOl4DntyVZnc2EKZvJsb4IC",
      "include_colab_link": true
    },
    "kernelspec": {
      "name": "python3",
      "display_name": "Python 3"
    },
    "language_info": {
      "name": "python"
    }
  },
  "cells": [
    {
      "cell_type": "markdown",
      "metadata": {
        "id": "view-in-github",
        "colab_type": "text"
      },
      "source": [
        "<a href=\"https://colab.research.google.com/github/allineBrito/eleicoesBR/blob/main/Resultado_elei%C3%A7%C3%B5es2018.ipynb\" target=\"_parent\"><img src=\"https://colab.research.google.com/assets/colab-badge.svg\" alt=\"Open In Colab\"/></a>"
      ]
    },
    {
      "cell_type": "code",
      "source": [
        "import pandas as pd\n",
        "import seaborn as sns\n",
        "import matplotlib.pyplot as plt"
      ],
      "metadata": {
        "id": "lILfQSeByyN2"
      },
      "execution_count": 1,
      "outputs": []
    },
    {
      "cell_type": "code",
      "source": [
        "sns.set()"
      ],
      "metadata": {
        "id": "iBLBtAnWy5TN"
      },
      "execution_count": 2,
      "outputs": []
    },
    {
      "cell_type": "code",
      "source": [
        "resultado = pd.read_csv(\"/content/drive/MyDrive/eleições/votacao_candidato_munzona_2018_BRASIL[1].csv\", sep=';', encoding='iso-8859-1')"
      ],
      "metadata": {
        "id": "GdZSLeAK8F45"
      },
      "execution_count": 3,
      "outputs": []
    },
    {
      "cell_type": "markdown",
      "source": [
        "# ***RESULTADO***"
      ],
      "metadata": {
        "id": "ef5TfiwBvyDS"
      }
    },
    {
      "cell_type": "code",
      "source": [
        "resultado.info()"
      ],
      "metadata": {
        "id": "qepp97WOG0tV",
        "colab": {
          "base_uri": "https://localhost:8080/"
        },
        "outputId": "72224fb9-621b-4416-faf9-46873d181501"
      },
      "execution_count": 19,
      "outputs": [
        {
          "output_type": "stream",
          "name": "stdout",
          "text": [
            "<class 'pandas.core.frame.DataFrame'>\n",
            "RangeIndex: 8671483 entries, 0 to 8671482\n",
            "Data columns (total 38 columns):\n",
            " #   Column                    Dtype \n",
            "---  ------                    ----- \n",
            " 0   DT_GERACAO                object\n",
            " 1   HH_GERACAO                object\n",
            " 2   ANO_ELEICAO               int64 \n",
            " 3   CD_TIPO_ELEICAO           int64 \n",
            " 4   NM_TIPO_ELEICAO           object\n",
            " 5   NR_TURNO                  int64 \n",
            " 6   CD_ELEICAO                int64 \n",
            " 7   DS_ELEICAO                object\n",
            " 8   DT_ELEICAO                object\n",
            " 9   TP_ABRANGENCIA            object\n",
            " 10  SG_UF                     object\n",
            " 11  SG_UE                     object\n",
            " 12  NM_UE                     object\n",
            " 13  CD_MUNICIPIO              int64 \n",
            " 14  NM_MUNICIPIO              object\n",
            " 15  NR_ZONA                   int64 \n",
            " 16  CD_CARGO                  int64 \n",
            " 17  DS_CARGO                  object\n",
            " 18  SQ_CANDIDATO              int64 \n",
            " 19  NR_CANDIDATO              int64 \n",
            " 20  NM_CANDIDATO              object\n",
            " 21  NM_URNA_CANDIDATO         object\n",
            " 22  NM_SOCIAL_CANDIDATO       object\n",
            " 23  CD_SITUACAO_CANDIDATURA   int64 \n",
            " 24  DS_SITUACAO_CANDIDATURA   object\n",
            " 25  CD_DETALHE_SITUACAO_CAND  int64 \n",
            " 26  DS_DETALHE_SITUACAO_CAND  object\n",
            " 27  TP_AGREMIACAO             object\n",
            " 28  NR_PARTIDO                int64 \n",
            " 29  SG_PARTIDO                object\n",
            " 30  NM_PARTIDO                object\n",
            " 31  SQ_COLIGACAO              int64 \n",
            " 32  NM_COLIGACAO              object\n",
            " 33  DS_COMPOSICAO_COLIGACAO   object\n",
            " 34  CD_SIT_TOT_TURNO          int64 \n",
            " 35  DS_SIT_TOT_TURNO          object\n",
            " 36  ST_VOTO_EM_TRANSITO       object\n",
            " 37  QT_VOTOS_NOMINAIS         int64 \n",
            "dtypes: int64(15), object(23)\n",
            "memory usage: 2.5+ GB\n"
          ]
        }
      ]
    },
    {
      "cell_type": "code",
      "source": [
        "votos= resultado['QT_VOTOS_NOMINAIS'].sum()\n",
        "print(\"Em 2018 foram computados {} de votos\". format(votos))"
      ],
      "metadata": {
        "colab": {
          "base_uri": "https://localhost:8080/"
        },
        "id": "rL6D6Spl2gNf",
        "outputId": "777e4dd5-6b2f-46f3-8fd4-df9446e8f33b"
      },
      "execution_count": 11,
      "outputs": [
        {
          "output_type": "stream",
          "name": "stdout",
          "text": [
            "Em 2018 foram computados 717354909 de votos\n"
          ]
        }
      ]
    },
    {
      "cell_type": "code",
      "source": [
        "#partidos com maior representação políticas '%'\n",
        "partido = resultado['SG_PARTIDO'].value_counts(normalize=True)*100\n",
        "partido.sort_values(ascending=False)"
      ],
      "metadata": {
        "colab": {
          "base_uri": "https://localhost:8080/"
        },
        "id": "ao_Vfbki_tRn",
        "outputId": "d7107222-e63f-4d15-af04-587ac5e70e83"
      },
      "execution_count": 12,
      "outputs": [
        {
          "output_type": "execute_result",
          "data": {
            "text/plain": [
              "PSL              5.884691\n",
              "PSOL             4.851650\n",
              "PATRI            4.793771\n",
              "PROS             4.730206\n",
              "AVANTE           4.728857\n",
              "PT               4.462466\n",
              "MDB              3.766737\n",
              "PHS              3.765942\n",
              "PRP              3.698179\n",
              "PRTB             3.611839\n",
              "PODE             3.518302\n",
              "PDT              3.103852\n",
              "PSDB             3.082748\n",
              "PSB              3.038442\n",
              "PV               2.911186\n",
              "SOLIDARIEDADE    2.905443\n",
              "PC do B          2.903817\n",
              "PSC              2.763184\n",
              "PRB              2.748746\n",
              "REDE             2.728991\n",
              "PTC              2.458242\n",
              "PR               2.381415\n",
              "DC               2.354926\n",
              "PMN              2.336867\n",
              "NOVO             2.238429\n",
              "PPL              2.214223\n",
              "PSD              2.170344\n",
              "PTB              2.064422\n",
              "DEM              2.052060\n",
              "PP               1.941767\n",
              "PPS              1.764150\n",
              "PMB              1.001005\n",
              "PSTU             0.693123\n",
              "PCB              0.266206\n",
              "PCO              0.061893\n",
              "PATRIOTA         0.001684\n",
              "PCA10            0.000012\n",
              "PCA8             0.000012\n",
              "PCA5             0.000012\n",
              "PCA6             0.000012\n",
              "PCA11            0.000012\n",
              "PCA4             0.000012\n",
              "PCA9             0.000012\n",
              "PCA15            0.000012\n",
              "PCA1             0.000012\n",
              "PCA17            0.000012\n",
              "PCA16            0.000012\n",
              "PCA12            0.000012\n",
              "PCA14            0.000012\n",
              "PCA13            0.000012\n",
              "PCA2             0.000012\n",
              "PCA7             0.000012\n",
              "PCA3             0.000012\n",
              "Name: SG_PARTIDO, dtype: float64"
            ]
          },
          "metadata": {},
          "execution_count": 12
        }
      ]
    },
    {
      "cell_type": "code",
      "source": [
        "resultado['DS_CARGO'].value_counts(normalize=True)*100"
      ],
      "metadata": {
        "colab": {
          "base_uri": "https://localhost:8080/"
        },
        "id": "jMEUOmLm-a7I",
        "outputId": "856f83cd-fb38-4eda-c12c-a2758ccf78f9"
      },
      "execution_count": 13,
      "outputs": [
        {
          "output_type": "execute_result",
          "data": {
            "text/plain": [
              "Deputado Estadual        61.031867\n",
              "Deputado Federal         36.275963\n",
              "Presidente                1.015686\n",
              "Senador                   0.885396\n",
              "Governador                0.589968\n",
              "Deputado Distrital        0.200923\n",
              "Conselheiro Distrital     0.000196\n",
              "Name: DS_CARGO, dtype: float64"
            ]
          },
          "metadata": {},
          "execution_count": 13
        }
      ]
    },
    {
      "cell_type": "code",
      "source": [
        "haddad= resultado[resultado[\"NM_URNA_CANDIDATO\"] == 'FERNANDO HADDAD']['QT_VOTOS_NOMINAIS'].sum()\n",
        "print(\"O candidato FERNANDO HADDAD recebeu {} de votos.\". format(haddad))\n"
      ],
      "metadata": {
        "colab": {
          "base_uri": "https://localhost:8080/"
        },
        "id": "bZM0eq2u757H",
        "outputId": "aed30385-7477-492b-bf76-0b36f672e5cc"
      },
      "execution_count": 23,
      "outputs": [
        {
          "output_type": "stream",
          "name": "stdout",
          "text": [
            "O candidato FERNANDO HADDAD recebeu 78382957 de votos.\n"
          ]
        }
      ]
    },
    {
      "cell_type": "code",
      "source": [
        "bosolnaro= resultado[resultado[\"NM_URNA_CANDIDATO\"] == 'JAIR BOLSONARO']['QT_VOTOS_NOMINAIS'].sum()\n",
        "print(\"O candidato JAIR BOLSONARO recebeu {} de votos.\". format(bosolnaro))"
      ],
      "metadata": {
        "colab": {
          "base_uri": "https://localhost:8080/"
        },
        "id": "zIWvWIAF8Wdw",
        "outputId": "424d7ebb-fadb-46fa-ebe0-12591b6d5c54"
      },
      "execution_count": 15,
      "outputs": [
        {
          "output_type": "stream",
          "name": "stdout",
          "text": [
            "O candidato JAIR BOLSONARO recebeu 107074857 de votos.\n"
          ]
        }
      ]
    },
    {
      "cell_type": "code",
      "source": [
        "resultado[resultado['NM_URNA_CANDIDATO'].str.contains('HADDAD') == True] [:3] "
      ],
      "metadata": {
        "colab": {
          "base_uri": "https://localhost:8080/",
          "height": 393
        },
        "id": "WtwwS35mA_E3",
        "outputId": "cb623ed7-1473-4788-9b43-7eca60f4130b"
      },
      "execution_count": 17,
      "outputs": [
        {
          "output_type": "execute_result",
          "data": {
            "text/plain": [
              "        DT_GERACAO HH_GERACAO  ANO_ELEICAO  CD_TIPO_ELEICAO  \\\n",
              "255564  01/05/2022   05:26:36         2018                2   \n",
              "255574  01/05/2022   05:26:36         2018                2   \n",
              "255577  01/05/2022   05:26:36         2018                2   \n",
              "\n",
              "          NM_TIPO_ELEICAO  NR_TURNO  CD_ELEICAO                  DS_ELEICAO  \\\n",
              "255564  Eleição Ordinária         1         295  ELEIÇÃO GERAL FEDERAL 2018   \n",
              "255574  Eleição Ordinária         1         295  ELEIÇÃO GERAL FEDERAL 2018   \n",
              "255577  Eleição Ordinária         1         295  ELEIÇÃO GERAL FEDERAL 2018   \n",
              "\n",
              "        DT_ELEICAO TP_ABRANGENCIA  ... NR_PARTIDO SG_PARTIDO  \\\n",
              "255564  07/10/2018              F  ...         13         PT   \n",
              "255574  07/10/2018              F  ...         13         PT   \n",
              "255577  07/10/2018              F  ...         13         PT   \n",
              "\n",
              "                       NM_PARTIDO  SQ_COLIGACAO          NM_COLIGACAO  \\\n",
              "255564  Partido dos Trabalhadores  280000050703  O POVO FELIZ DE NOVO   \n",
              "255574  Partido dos Trabalhadores  280000050703  O POVO FELIZ DE NOVO   \n",
              "255577  Partido dos Trabalhadores  280000050703  O POVO FELIZ DE NOVO   \n",
              "\n",
              "        DS_COMPOSICAO_COLIGACAO  CD_SIT_TOT_TURNO DS_SIT_TOT_TURNO  \\\n",
              "255564      PT / PC do B / PROS                 6         2º TURNO   \n",
              "255574      PT / PC do B / PROS                 6         2º TURNO   \n",
              "255577      PT / PC do B / PROS                 6         2º TURNO   \n",
              "\n",
              "        ST_VOTO_EM_TRANSITO  QT_VOTOS_NOMINAIS  \n",
              "255564                    N               2584  \n",
              "255574                    N              14330  \n",
              "255577                    N                731  \n",
              "\n",
              "[3 rows x 38 columns]"
            ],
            "text/html": [
              "\n",
              "  <div id=\"df-3a41206b-ae12-4ac8-90c0-0f48de6b6e42\">\n",
              "    <div class=\"colab-df-container\">\n",
              "      <div>\n",
              "<style scoped>\n",
              "    .dataframe tbody tr th:only-of-type {\n",
              "        vertical-align: middle;\n",
              "    }\n",
              "\n",
              "    .dataframe tbody tr th {\n",
              "        vertical-align: top;\n",
              "    }\n",
              "\n",
              "    .dataframe thead th {\n",
              "        text-align: right;\n",
              "    }\n",
              "</style>\n",
              "<table border=\"1\" class=\"dataframe\">\n",
              "  <thead>\n",
              "    <tr style=\"text-align: right;\">\n",
              "      <th></th>\n",
              "      <th>DT_GERACAO</th>\n",
              "      <th>HH_GERACAO</th>\n",
              "      <th>ANO_ELEICAO</th>\n",
              "      <th>CD_TIPO_ELEICAO</th>\n",
              "      <th>NM_TIPO_ELEICAO</th>\n",
              "      <th>NR_TURNO</th>\n",
              "      <th>CD_ELEICAO</th>\n",
              "      <th>DS_ELEICAO</th>\n",
              "      <th>DT_ELEICAO</th>\n",
              "      <th>TP_ABRANGENCIA</th>\n",
              "      <th>...</th>\n",
              "      <th>NR_PARTIDO</th>\n",
              "      <th>SG_PARTIDO</th>\n",
              "      <th>NM_PARTIDO</th>\n",
              "      <th>SQ_COLIGACAO</th>\n",
              "      <th>NM_COLIGACAO</th>\n",
              "      <th>DS_COMPOSICAO_COLIGACAO</th>\n",
              "      <th>CD_SIT_TOT_TURNO</th>\n",
              "      <th>DS_SIT_TOT_TURNO</th>\n",
              "      <th>ST_VOTO_EM_TRANSITO</th>\n",
              "      <th>QT_VOTOS_NOMINAIS</th>\n",
              "    </tr>\n",
              "  </thead>\n",
              "  <tbody>\n",
              "    <tr>\n",
              "      <th>255564</th>\n",
              "      <td>01/05/2022</td>\n",
              "      <td>05:26:36</td>\n",
              "      <td>2018</td>\n",
              "      <td>2</td>\n",
              "      <td>Eleição Ordinária</td>\n",
              "      <td>1</td>\n",
              "      <td>295</td>\n",
              "      <td>ELEIÇÃO GERAL FEDERAL 2018</td>\n",
              "      <td>07/10/2018</td>\n",
              "      <td>F</td>\n",
              "      <td>...</td>\n",
              "      <td>13</td>\n",
              "      <td>PT</td>\n",
              "      <td>Partido dos Trabalhadores</td>\n",
              "      <td>280000050703</td>\n",
              "      <td>O POVO FELIZ DE NOVO</td>\n",
              "      <td>PT / PC do B / PROS</td>\n",
              "      <td>6</td>\n",
              "      <td>2º TURNO</td>\n",
              "      <td>N</td>\n",
              "      <td>2584</td>\n",
              "    </tr>\n",
              "    <tr>\n",
              "      <th>255574</th>\n",
              "      <td>01/05/2022</td>\n",
              "      <td>05:26:36</td>\n",
              "      <td>2018</td>\n",
              "      <td>2</td>\n",
              "      <td>Eleição Ordinária</td>\n",
              "      <td>1</td>\n",
              "      <td>295</td>\n",
              "      <td>ELEIÇÃO GERAL FEDERAL 2018</td>\n",
              "      <td>07/10/2018</td>\n",
              "      <td>F</td>\n",
              "      <td>...</td>\n",
              "      <td>13</td>\n",
              "      <td>PT</td>\n",
              "      <td>Partido dos Trabalhadores</td>\n",
              "      <td>280000050703</td>\n",
              "      <td>O POVO FELIZ DE NOVO</td>\n",
              "      <td>PT / PC do B / PROS</td>\n",
              "      <td>6</td>\n",
              "      <td>2º TURNO</td>\n",
              "      <td>N</td>\n",
              "      <td>14330</td>\n",
              "    </tr>\n",
              "    <tr>\n",
              "      <th>255577</th>\n",
              "      <td>01/05/2022</td>\n",
              "      <td>05:26:36</td>\n",
              "      <td>2018</td>\n",
              "      <td>2</td>\n",
              "      <td>Eleição Ordinária</td>\n",
              "      <td>1</td>\n",
              "      <td>295</td>\n",
              "      <td>ELEIÇÃO GERAL FEDERAL 2018</td>\n",
              "      <td>07/10/2018</td>\n",
              "      <td>F</td>\n",
              "      <td>...</td>\n",
              "      <td>13</td>\n",
              "      <td>PT</td>\n",
              "      <td>Partido dos Trabalhadores</td>\n",
              "      <td>280000050703</td>\n",
              "      <td>O POVO FELIZ DE NOVO</td>\n",
              "      <td>PT / PC do B / PROS</td>\n",
              "      <td>6</td>\n",
              "      <td>2º TURNO</td>\n",
              "      <td>N</td>\n",
              "      <td>731</td>\n",
              "    </tr>\n",
              "  </tbody>\n",
              "</table>\n",
              "<p>3 rows × 38 columns</p>\n",
              "</div>\n",
              "      <button class=\"colab-df-convert\" onclick=\"convertToInteractive('df-3a41206b-ae12-4ac8-90c0-0f48de6b6e42')\"\n",
              "              title=\"Convert this dataframe to an interactive table.\"\n",
              "              style=\"display:none;\">\n",
              "        \n",
              "  <svg xmlns=\"http://www.w3.org/2000/svg\" height=\"24px\"viewBox=\"0 0 24 24\"\n",
              "       width=\"24px\">\n",
              "    <path d=\"M0 0h24v24H0V0z\" fill=\"none\"/>\n",
              "    <path d=\"M18.56 5.44l.94 2.06.94-2.06 2.06-.94-2.06-.94-.94-2.06-.94 2.06-2.06.94zm-11 1L8.5 8.5l.94-2.06 2.06-.94-2.06-.94L8.5 2.5l-.94 2.06-2.06.94zm10 10l.94 2.06.94-2.06 2.06-.94-2.06-.94-.94-2.06-.94 2.06-2.06.94z\"/><path d=\"M17.41 7.96l-1.37-1.37c-.4-.4-.92-.59-1.43-.59-.52 0-1.04.2-1.43.59L10.3 9.45l-7.72 7.72c-.78.78-.78 2.05 0 2.83L4 21.41c.39.39.9.59 1.41.59.51 0 1.02-.2 1.41-.59l7.78-7.78 2.81-2.81c.8-.78.8-2.07 0-2.86zM5.41 20L4 18.59l7.72-7.72 1.47 1.35L5.41 20z\"/>\n",
              "  </svg>\n",
              "      </button>\n",
              "      \n",
              "  <style>\n",
              "    .colab-df-container {\n",
              "      display:flex;\n",
              "      flex-wrap:wrap;\n",
              "      gap: 12px;\n",
              "    }\n",
              "\n",
              "    .colab-df-convert {\n",
              "      background-color: #E8F0FE;\n",
              "      border: none;\n",
              "      border-radius: 50%;\n",
              "      cursor: pointer;\n",
              "      display: none;\n",
              "      fill: #1967D2;\n",
              "      height: 32px;\n",
              "      padding: 0 0 0 0;\n",
              "      width: 32px;\n",
              "    }\n",
              "\n",
              "    .colab-df-convert:hover {\n",
              "      background-color: #E2EBFA;\n",
              "      box-shadow: 0px 1px 2px rgba(60, 64, 67, 0.3), 0px 1px 3px 1px rgba(60, 64, 67, 0.15);\n",
              "      fill: #174EA6;\n",
              "    }\n",
              "\n",
              "    [theme=dark] .colab-df-convert {\n",
              "      background-color: #3B4455;\n",
              "      fill: #D2E3FC;\n",
              "    }\n",
              "\n",
              "    [theme=dark] .colab-df-convert:hover {\n",
              "      background-color: #434B5C;\n",
              "      box-shadow: 0px 1px 3px 1px rgba(0, 0, 0, 0.15);\n",
              "      filter: drop-shadow(0px 1px 2px rgba(0, 0, 0, 0.3));\n",
              "      fill: #FFFFFF;\n",
              "    }\n",
              "  </style>\n",
              "\n",
              "      <script>\n",
              "        const buttonEl =\n",
              "          document.querySelector('#df-3a41206b-ae12-4ac8-90c0-0f48de6b6e42 button.colab-df-convert');\n",
              "        buttonEl.style.display =\n",
              "          google.colab.kernel.accessAllowed ? 'block' : 'none';\n",
              "\n",
              "        async function convertToInteractive(key) {\n",
              "          const element = document.querySelector('#df-3a41206b-ae12-4ac8-90c0-0f48de6b6e42');\n",
              "          const dataTable =\n",
              "            await google.colab.kernel.invokeFunction('convertToInteractive',\n",
              "                                                     [key], {});\n",
              "          if (!dataTable) return;\n",
              "\n",
              "          const docLinkHtml = 'Like what you see? Visit the ' +\n",
              "            '<a target=\"_blank\" href=https://colab.research.google.com/notebooks/data_table.ipynb>data table notebook</a>'\n",
              "            + ' to learn more about interactive tables.';\n",
              "          element.innerHTML = '';\n",
              "          dataTable['output_type'] = 'display_data';\n",
              "          await google.colab.output.renderOutput(dataTable, element);\n",
              "          const docLink = document.createElement('div');\n",
              "          docLink.innerHTML = docLinkHtml;\n",
              "          element.appendChild(docLink);\n",
              "        }\n",
              "      </script>\n",
              "    </div>\n",
              "  </div>\n",
              "  "
            ]
          },
          "metadata": {},
          "execution_count": 17
        }
      ]
    }
  ]
}